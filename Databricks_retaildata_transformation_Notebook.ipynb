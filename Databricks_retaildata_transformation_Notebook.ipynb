{
 "cells": [
  {
   "cell_type": "code",
   "execution_count": 0,
   "metadata": {
    "application/vnd.databricks.v1+cell": {
     "cellMetadata": {
      "byteLimit": 2048000,
      "rowLimit": 10000
     },
     "inputWidgets": {},
     "nuid": "f1dbc23b-a10f-4e97-9291-4f0c1016ee7a",
     "showTitle": false,
     "tableResultSettingsMap": {},
     "title": ""
    }
   },
   "outputs": [],
   "source": [
    "from pyspark.sql import SparkSession\n",
    "from pyspark.sql.functions import *\n",
    "from pyspark.sql.types import *\n",
    "from pyspark.sql.window import Window"
   ]
  },
  {
   "cell_type": "markdown",
   "metadata": {
    "application/vnd.databricks.v1+cell": {
     "cellMetadata": {},
     "inputWidgets": {},
     "nuid": "b35cd514-d22a-4618-b0e0-304a1b8335a7",
     "showTitle": false,
     "tableResultSettingsMap": {},
     "title": ""
    }
   },
   "source": [
    "## Initiating SparkSession"
   ]
  },
  {
   "cell_type": "code",
   "execution_count": 0,
   "metadata": {
    "application/vnd.databricks.v1+cell": {
     "cellMetadata": {
      "byteLimit": 2048000,
      "rowLimit": 10000
     },
     "inputWidgets": {},
     "nuid": "da43513e-3b25-4d15-8e34-4827cda3af0a",
     "showTitle": false,
     "tableResultSettingsMap": {},
     "title": ""
    }
   },
   "outputs": [],
   "source": [
    "spark = SparkSession.builder.appName(\"Retaildata_transformation\").getOrCreate()"
   ]
  },
  {
   "cell_type": "code",
   "execution_count": 0,
   "metadata": {
    "application/vnd.databricks.v1+cell": {
     "cellMetadata": {
      "byteLimit": 2048000,
      "rowLimit": 10000
     },
     "inputWidgets": {},
     "nuid": "daaaf505-894c-4cd6-878d-81b59352f840",
     "showTitle": false,
     "tableResultSettingsMap": {},
     "title": ""
    }
   },
   "outputs": [],
   "source": [
    "configs = {\n",
    "  \"fs.azure.account.auth.type\": \"OAuth\",\n",
    "  \"fs.azure.account.oauth.provider.type\": \"org.apache.hadoop.fs.azurebfs.oauth2.ClientCredsTokenProvider\",\n",
    "  \"fs.azure.account.oauth2.client.id\": \"<CLIENT-ID>\",\n",
    "  \"fs.azure.account.oauth2.client.secret\": \"<CLIENT-SECRET>\",\n",
    "  \"fs.azure.account.oauth2.client.endpoint\": \"https://login.microsoftonline.com/<TENANT-ID>/oauth2/token\"\n",
    "}\n",
    "\n",
    "# Mount point\n",
    "dbutils.fs.mount(\n",
    "  source = \"wasbs://mycontainer@mystorageaccount.blob.core.windows.net/\",\n",
    "  mount_point = \"/mnt/newblobpipeline3\",\n",
    "  extra_configs = {\n",
    "    \"fs.azure.account.key.mystorageaccount.blob.core.windows.net\": \"your-actual-storage-account-key-here\"\n",
    "  }\n",
    ")\n",
    "\n"
   ]
  },
  {
   "cell_type": "code",
   "execution_count": 0,
   "metadata": {
    "application/vnd.databricks.v1+cell": {
     "cellMetadata": {
      "byteLimit": 2048000,
      "rowLimit": 10000
     },
     "inputWidgets": {},
     "nuid": "8e82a551-4fbc-414d-8131-2e6084a8ae57",
     "showTitle": false,
     "tableResultSettingsMap": {},
     "title": ""
    }
   },
   "outputs": [
    {
     "data": {
      "text/html": [
       "<style scoped>\n",
       "  .table-result-container {\n",
       "    max-height: 300px;\n",
       "    overflow: auto;\n",
       "  }\n",
       "  table, th, td {\n",
       "    border: 1px solid black;\n",
       "    border-collapse: collapse;\n",
       "  }\n",
       "  th, td {\n",
       "    padding: 5px;\n",
       "  }\n",
       "  th {\n",
       "    text-align: left;\n",
       "  }\n",
       "</style><div class='table-result-container'><table class='table-result'><thead style='background-color: white'><tr><th>OrderID</th><th>CustomerID</th><th>ProductName</th><th>OrderDate</th><th>Quantity</th><th>PricePerUnit</th><th>Country</th><th>DiscountPercent</th><th>TaxPercent</th><th>StockAvailable</th></tr></thead><tbody><tr><td>ORD1001</td><td>CUST005</td><td>Hard Drive</td><td>12/29/2023</td><td>2</td><td>300</td><td>Australia</td><td>5</td><td>12</td><td>41</td></tr><tr><td>ORD1002</td><td>CUST003</td><td>Hard Drive</td><td>10/30/2023</td><td>4</td><td>null</td><td>Germany</td><td>15</td><td>null</td><td>29</td></tr><tr><td>ORD1003</td><td>CUST005</td><td>Tablet</td><td>10/8/2023</td><td>4</td><td>300</td><td>UK</td><td>10</td><td>12</td><td>1</td></tr><tr><td>ORD1004</td><td>CUST001</td><td>Speaker</td><td>10/22/2023</td><td>1</td><td>0</td><td>UK</td><td>0</td><td>5</td><td>38</td></tr><tr><td>ORD1005</td><td>CUST002</td><td>Webcam</td><td>11/29/2023</td><td>null</td><td>75.5</td><td>UK</td><td>10</td><td>5</td><td>20</td></tr><tr><td>ORD1006</td><td>CUST004</td><td>Hard Drive</td><td>11/28/2023</td><td>4</td><td>50</td><td>USA</td><td>null</td><td>5</td><td>48</td></tr><tr><td>ORD1007</td><td>null</td><td>Webcam</td><td>10/30/2023</td><td>2</td><td>75.5</td><td>Spain</td><td>0</td><td>10</td><td>15</td></tr><tr><td>ORD1008</td><td>CUST004</td><td>Speaker</td><td>NotADate</td><td>1</td><td>300</td><td>Spain</td><td>10</td><td>null</td><td>40</td></tr><tr><td>ORD1009</td><td>CUST005</td><td>null</td><td>12/14/2023</td><td>null</td><td>75.5</td><td>Australia</td><td>5</td><td>18</td><td>26</td></tr><tr><td>ORD1010</td><td>CUST001</td><td>Tablet</td><td>11/14/2023</td><td>null</td><td>75.5</td><td>India</td><td>15</td><td>18</td><td>23</td></tr><tr><td>ORD1011</td><td>CUST001</td><td>Charger</td><td>10/13/2023</td><td>five</td><td>50</td><td>Spain</td><td>0</td><td>18</td><td>39</td></tr><tr><td>ORD1012</td><td>CUST005</td><td>Webcam</td><td>10/15/2023</td><td>1</td><td>50</td><td>Canada</td><td>null</td><td>10</td><td>15</td></tr><tr><td>ORD1013</td><td>CUST002</td><td>USB Drive</td><td>12/23/2023</td><td>five</td><td>0</td><td>Spain</td><td>0</td><td>5</td><td>12</td></tr><tr><td>ORD1014</td><td>null</td><td>USB Drive</td><td>10/26/2023</td><td>4</td><td>0</td><td>Australia</td><td>5</td><td>5</td><td>32</td></tr><tr><td>ORD1015</td><td>CUST002</td><td>Webcam</td><td>11/1/2023</td><td>null</td><td>0</td><td>Canada</td><td>10</td><td>18</td><td>6</td></tr><tr><td>ORD1016</td><td>CUST002</td><td>Hard Drive</td><td>NotADate</td><td>null</td><td>0</td><td>India</td><td>10</td><td>null</td><td>20</td></tr><tr><td>ORD1017</td><td>CUST002</td><td>Speaker</td><td>10/12/2023</td><td>4</td><td>50</td><td>Spain</td><td>null</td><td>12</td><td>39</td></tr><tr><td>ORD1018</td><td>CUST005</td><td>null</td><td>12/10/2023</td><td>3</td><td>0</td><td>UK</td><td>15</td><td>null</td><td>43</td></tr><tr><td>ORD1019</td><td>CUST001</td><td>Tablet</td><td>11/13/2023</td><td>1</td><td>120.99</td><td>Australia</td><td>0</td><td>null</td><td>37</td></tr><tr><td>ORD1020</td><td>CUST002</td><td>USB Drive</td><td>12/24/2023</td><td>1</td><td>120.99</td><td>USA</td><td>0</td><td>null</td><td>28</td></tr><tr><td>ORD1021</td><td>null</td><td>Speaker</td><td>12/28/2023</td><td>five</td><td>75.5</td><td>Australia</td><td>15</td><td>5</td><td>11</td></tr><tr><td>ORD1022</td><td>CUST001</td><td>USB Drive</td><td>11/8/2023</td><td>2</td><td>75.5</td><td>Germany</td><td>5</td><td>10</td><td>13</td></tr><tr><td>ORD1023</td><td>CUST002</td><td>Monitor</td><td>11/26/2023</td><td>3</td><td>50</td><td>Australia</td><td>5</td><td>18</td><td>15</td></tr><tr><td>ORD1024</td><td>CUST003</td><td>USB Drive</td><td>NotADate</td><td>4</td><td>50</td><td>Spain</td><td>15</td><td>null</td><td>31</td></tr><tr><td>ORD1025</td><td>CUST003</td><td>Hard Drive</td><td>10/6/2023</td><td>five</td><td>0</td><td>USA</td><td>null</td><td>18</td><td>38</td></tr><tr><td>ORD1026</td><td>CUST005</td><td>Laptop</td><td>10/12/2023</td><td>five</td><td>75.5</td><td>USA</td><td>5</td><td>null</td><td>46</td></tr><tr><td>ORD1027</td><td>CUST003</td><td>null</td><td>11/18/2023</td><td>1</td><td>null</td><td>India</td><td>null</td><td>10</td><td>8</td></tr><tr><td>ORD1028</td><td>null</td><td>Webcam</td><td>11/20/2023</td><td>1</td><td>75.5</td><td>USA</td><td>null</td><td>null</td><td>46</td></tr><tr><td>ORD1029</td><td>CUST001</td><td>Monitor</td><td>11/11/2023</td><td>1</td><td>75.5</td><td>Germany</td><td>0</td><td>12</td><td>48</td></tr><tr><td>ORD1030</td><td>CUST005</td><td>Speaker</td><td>11/6/2023</td><td>five</td><td>300</td><td>Spain</td><td>15</td><td>18</td><td>30</td></tr><tr><td>ORD1031</td><td>CUST005</td><td>Speaker</td><td>10/22/2023</td><td>4</td><td>null</td><td>India</td><td>10</td><td>18</td><td>36</td></tr><tr><td>ORD1032</td><td>CUST005</td><td>Laptop</td><td>NotADate</td><td>1</td><td>75.5</td><td>null</td><td>10</td><td>12</td><td>40</td></tr><tr><td>ORD1033</td><td>CUST001</td><td>Webcam</td><td>12/30/2023</td><td>five</td><td>50</td><td>India</td><td>10</td><td>10</td><td>4</td></tr><tr><td>ORD1034</td><td>CUST005</td><td>Laptop</td><td>10/21/2023</td><td>3</td><td>300</td><td>USA</td><td>5</td><td>10</td><td>13</td></tr><tr><td>ORD1035</td><td>null</td><td>Monitor</td><td>12/2/2023</td><td>five</td><td>120.99</td><td>India</td><td>5</td><td>5</td><td>25</td></tr><tr><td>ORD1036</td><td>CUST002</td><td>null</td><td>12/8/2023</td><td>3</td><td>null</td><td>India</td><td>10</td><td>5</td><td>11</td></tr><tr><td>ORD1037</td><td>CUST001</td><td>Hard Drive</td><td>11/25/2023</td><td>five</td><td>120.99</td><td>null</td><td>5</td><td>5</td><td>5</td></tr><tr><td>ORD1038</td><td>CUST004</td><td>Mouse</td><td>12/29/2023</td><td>1</td><td>50</td><td>Germany</td><td>15</td><td>12</td><td>46</td></tr><tr><td>ORD1039</td><td>CUST001</td><td>Monitor</td><td>10/9/2023</td><td>null</td><td>300</td><td>Spain</td><td>15</td><td>18</td><td>26</td></tr><tr><td>ORD1040</td><td>CUST001</td><td>Mouse</td><td>NotADate</td><td>five</td><td>0</td><td>Spain</td><td>null</td><td>12</td><td>34</td></tr><tr><td>ORD1041</td><td>CUST001</td><td>Laptop</td><td>11/29/2023</td><td>2</td><td>300</td><td>Canada</td><td>10</td><td>null</td><td>18</td></tr><tr><td>ORD1042</td><td>null</td><td>Mouse</td><td>11/17/2023</td><td>null</td><td>300</td><td>Spain</td><td>15</td><td>5</td><td>15</td></tr><tr><td>ORD1043</td><td>CUST005</td><td>Speaker</td><td>12/10/2023</td><td>4</td><td>0</td><td>Australia</td><td>null</td><td>null</td><td>46</td></tr><tr><td>ORD1044</td><td>CUST002</td><td>Charger</td><td>11/28/2023</td><td>3</td><td>120.99</td><td>USA</td><td>null</td><td>5</td><td>39</td></tr><tr><td>ORD1045</td><td>CUST005</td><td>null</td><td>10/22/2023</td><td>five</td><td>null</td><td>null</td><td>15</td><td>5</td><td>38</td></tr><tr><td>ORD1046</td><td>CUST005</td><td>Mouse</td><td>10/21/2023</td><td>1</td><td>75.5</td><td>Germany</td><td>0</td><td>12</td><td>41</td></tr><tr><td>ORD1047</td><td>CUST001</td><td>USB Drive</td><td>11/8/2023</td><td>five</td><td>120.99</td><td>UK</td><td>0</td><td>12</td><td>0</td></tr><tr><td>ORD1048</td><td>CUST003</td><td>Charger</td><td>NotADate</td><td>4</td><td>50</td><td>UK</td><td>15</td><td>null</td><td>16</td></tr><tr><td>ORD1049</td><td>null</td><td>Keyboard</td><td>11/24/2023</td><td>2</td><td>50</td><td>USA</td><td>15</td><td>12</td><td>26</td></tr><tr><td>ORD1050</td><td>CUST003</td><td>Speaker</td><td>11/7/2023</td><td>4</td><td>75.5</td><td>Canada</td><td>5</td><td>12</td><td>29</td></tr><tr><td>ORD1051</td><td>CUST004</td><td>Laptop</td><td>11/11/2023</td><td>null</td><td>0</td><td>null</td><td>null</td><td>18</td><td>23</td></tr><tr><td>ORD1052</td><td>CUST003</td><td>Charger</td><td>12/11/2023</td><td>3</td><td>300</td><td>India</td><td>15</td><td>null</td><td>0</td></tr><tr><td>ORD1053</td><td>CUST004</td><td>USB Drive</td><td>11/30/2023</td><td>1</td><td>0</td><td>Germany</td><td>0</td><td>10</td><td>9</td></tr><tr><td>ORD1054</td><td>CUST005</td><td>null</td><td>10/28/2023</td><td>3</td><td>50</td><td>Canada</td><td>5</td><td>5</td><td>13</td></tr><tr><td>ORD1055</td><td>CUST005</td><td>Mouse</td><td>11/13/2023</td><td>4</td><td>120.99</td><td>null</td><td>15</td><td>5</td><td>19</td></tr><tr><td>ORD1056</td><td>null</td><td>Tablet</td><td>NotADate</td><td>1</td><td>50</td><td>USA</td><td>0</td><td>18</td><td>21</td></tr><tr><td>ORD1057</td><td>CUST005</td><td>Keyboard</td><td>12/22/2023</td><td>2</td><td>120.99</td><td>Australia</td><td>5</td><td>10</td><td>47</td></tr><tr><td>ORD1058</td><td>CUST005</td><td>Webcam</td><td>10/23/2023</td><td>null</td><td>75.5</td><td>UK</td><td>10</td><td>null</td><td>50</td></tr><tr><td>ORD1059</td><td>CUST004</td><td>USB Drive</td><td>11/25/2023</td><td>null</td><td>0</td><td>Canada</td><td>0</td><td>18</td><td>30</td></tr><tr><td>ORD1060</td><td>CUST005</td><td>Keyboard</td><td>10/2/2023</td><td>1</td><td>300</td><td>India</td><td>5</td><td>12</td><td>3</td></tr></tbody></table></div>"
      ]
     },
     "metadata": {
      "application/vnd.databricks.v1+output": {
       "addedWidgets": {},
       "aggData": [],
       "aggError": "",
       "aggOverflow": false,
       "aggSchema": [],
       "aggSeriesLimitReached": false,
       "aggType": "",
       "arguments": {},
       "columnCustomDisplayInfos": {},
       "data": [
        [
         "ORD1001",
         "CUST005",
         "Hard Drive",
         "12/29/2023",
         "2",
         "300",
         "Australia",
         "5",
         "12",
         "41"
        ],
        [
         "ORD1002",
         "CUST003",
         "Hard Drive",
         "10/30/2023",
         "4",
         null,
         "Germany",
         "15",
         null,
         "29"
        ],
        [
         "ORD1003",
         "CUST005",
         "Tablet",
         "10/8/2023",
         "4",
         "300",
         "UK",
         "10",
         "12",
         "1"
        ],
        [
         "ORD1004",
         "CUST001",
         "Speaker",
         "10/22/2023",
         "1",
         "0",
         "UK",
         "0",
         "5",
         "38"
        ],
        [
         "ORD1005",
         "CUST002",
         "Webcam",
         "11/29/2023",
         null,
         "75.5",
         "UK",
         "10",
         "5",
         "20"
        ],
        [
         "ORD1006",
         "CUST004",
         "Hard Drive",
         "11/28/2023",
         "4",
         "50",
         "USA",
         null,
         "5",
         "48"
        ],
        [
         "ORD1007",
         null,
         "Webcam",
         "10/30/2023",
         "2",
         "75.5",
         "Spain",
         "0",
         "10",
         "15"
        ],
        [
         "ORD1008",
         "CUST004",
         "Speaker",
         "NotADate",
         "1",
         "300",
         "Spain",
         "10",
         null,
         "40"
        ],
        [
         "ORD1009",
         "CUST005",
         null,
         "12/14/2023",
         null,
         "75.5",
         "Australia",
         "5",
         "18",
         "26"
        ],
        [
         "ORD1010",
         "CUST001",
         "Tablet",
         "11/14/2023",
         null,
         "75.5",
         "India",
         "15",
         "18",
         "23"
        ],
        [
         "ORD1011",
         "CUST001",
         "Charger",
         "10/13/2023",
         "five",
         "50",
         "Spain",
         "0",
         "18",
         "39"
        ],
        [
         "ORD1012",
         "CUST005",
         "Webcam",
         "10/15/2023",
         "1",
         "50",
         "Canada",
         null,
         "10",
         "15"
        ],
        [
         "ORD1013",
         "CUST002",
         "USB Drive",
         "12/23/2023",
         "five",
         "0",
         "Spain",
         "0",
         "5",
         "12"
        ],
        [
         "ORD1014",
         null,
         "USB Drive",
         "10/26/2023",
         "4",
         "0",
         "Australia",
         "5",
         "5",
         "32"
        ],
        [
         "ORD1015",
         "CUST002",
         "Webcam",
         "11/1/2023",
         null,
         "0",
         "Canada",
         "10",
         "18",
         "6"
        ],
        [
         "ORD1016",
         "CUST002",
         "Hard Drive",
         "NotADate",
         null,
         "0",
         "India",
         "10",
         null,
         "20"
        ],
        [
         "ORD1017",
         "CUST002",
         "Speaker",
         "10/12/2023",
         "4",
         "50",
         "Spain",
         null,
         "12",
         "39"
        ],
        [
         "ORD1018",
         "CUST005",
         null,
         "12/10/2023",
         "3",
         "0",
         "UK",
         "15",
         null,
         "43"
        ],
        [
         "ORD1019",
         "CUST001",
         "Tablet",
         "11/13/2023",
         "1",
         "120.99",
         "Australia",
         "0",
         null,
         "37"
        ],
        [
         "ORD1020",
         "CUST002",
         "USB Drive",
         "12/24/2023",
         "1",
         "120.99",
         "USA",
         "0",
         null,
         "28"
        ],
        [
         "ORD1021",
         null,
         "Speaker",
         "12/28/2023",
         "five",
         "75.5",
         "Australia",
         "15",
         "5",
         "11"
        ],
        [
         "ORD1022",
         "CUST001",
         "USB Drive",
         "11/8/2023",
         "2",
         "75.5",
         "Germany",
         "5",
         "10",
         "13"
        ],
        [
         "ORD1023",
         "CUST002",
         "Monitor",
         "11/26/2023",
         "3",
         "50",
         "Australia",
         "5",
         "18",
         "15"
        ],
        [
         "ORD1024",
         "CUST003",
         "USB Drive",
         "NotADate",
         "4",
         "50",
         "Spain",
         "15",
         null,
         "31"
        ],
        [
         "ORD1025",
         "CUST003",
         "Hard Drive",
         "10/6/2023",
         "five",
         "0",
         "USA",
         null,
         "18",
         "38"
        ],
        [
         "ORD1026",
         "CUST005",
         "Laptop",
         "10/12/2023",
         "five",
         "75.5",
         "USA",
         "5",
         null,
         "46"
        ],
        [
         "ORD1027",
         "CUST003",
         null,
         "11/18/2023",
         "1",
         null,
         "India",
         null,
         "10",
         "8"
        ],
        [
         "ORD1028",
         null,
         "Webcam",
         "11/20/2023",
         "1",
         "75.5",
         "USA",
         null,
         null,
         "46"
        ],
        [
         "ORD1029",
         "CUST001",
         "Monitor",
         "11/11/2023",
         "1",
         "75.5",
         "Germany",
         "0",
         "12",
         "48"
        ],
        [
         "ORD1030",
         "CUST005",
         "Speaker",
         "11/6/2023",
         "five",
         "300",
         "Spain",
         "15",
         "18",
         "30"
        ],
        [
         "ORD1031",
         "CUST005",
         "Speaker",
         "10/22/2023",
         "4",
         null,
         "India",
         "10",
         "18",
         "36"
        ],
        [
         "ORD1032",
         "CUST005",
         "Laptop",
         "NotADate",
         "1",
         "75.5",
         null,
         "10",
         "12",
         "40"
        ],
        [
         "ORD1033",
         "CUST001",
         "Webcam",
         "12/30/2023",
         "five",
         "50",
         "India",
         "10",
         "10",
         "4"
        ],
        [
         "ORD1034",
         "CUST005",
         "Laptop",
         "10/21/2023",
         "3",
         "300",
         "USA",
         "5",
         "10",
         "13"
        ],
        [
         "ORD1035",
         null,
         "Monitor",
         "12/2/2023",
         "five",
         "120.99",
         "India",
         "5",
         "5",
         "25"
        ],
        [
         "ORD1036",
         "CUST002",
         null,
         "12/8/2023",
         "3",
         null,
         "India",
         "10",
         "5",
         "11"
        ],
        [
         "ORD1037",
         "CUST001",
         "Hard Drive",
         "11/25/2023",
         "five",
         "120.99",
         null,
         "5",
         "5",
         "5"
        ],
        [
         "ORD1038",
         "CUST004",
         "Mouse",
         "12/29/2023",
         "1",
         "50",
         "Germany",
         "15",
         "12",
         "46"
        ],
        [
         "ORD1039",
         "CUST001",
         "Monitor",
         "10/9/2023",
         null,
         "300",
         "Spain",
         "15",
         "18",
         "26"
        ],
        [
         "ORD1040",
         "CUST001",
         "Mouse",
         "NotADate",
         "five",
         "0",
         "Spain",
         null,
         "12",
         "34"
        ],
        [
         "ORD1041",
         "CUST001",
         "Laptop",
         "11/29/2023",
         "2",
         "300",
         "Canada",
         "10",
         null,
         "18"
        ],
        [
         "ORD1042",
         null,
         "Mouse",
         "11/17/2023",
         null,
         "300",
         "Spain",
         "15",
         "5",
         "15"
        ],
        [
         "ORD1043",
         "CUST005",
         "Speaker",
         "12/10/2023",
         "4",
         "0",
         "Australia",
         null,
         null,
         "46"
        ],
        [
         "ORD1044",
         "CUST002",
         "Charger",
         "11/28/2023",
         "3",
         "120.99",
         "USA",
         null,
         "5",
         "39"
        ],
        [
         "ORD1045",
         "CUST005",
         null,
         "10/22/2023",
         "five",
         null,
         null,
         "15",
         "5",
         "38"
        ],
        [
         "ORD1046",
         "CUST005",
         "Mouse",
         "10/21/2023",
         "1",
         "75.5",
         "Germany",
         "0",
         "12",
         "41"
        ],
        [
         "ORD1047",
         "CUST001",
         "USB Drive",
         "11/8/2023",
         "five",
         "120.99",
         "UK",
         "0",
         "12",
         "0"
        ],
        [
         "ORD1048",
         "CUST003",
         "Charger",
         "NotADate",
         "4",
         "50",
         "UK",
         "15",
         null,
         "16"
        ],
        [
         "ORD1049",
         null,
         "Keyboard",
         "11/24/2023",
         "2",
         "50",
         "USA",
         "15",
         "12",
         "26"
        ],
        [
         "ORD1050",
         "CUST003",
         "Speaker",
         "11/7/2023",
         "4",
         "75.5",
         "Canada",
         "5",
         "12",
         "29"
        ],
        [
         "ORD1051",
         "CUST004",
         "Laptop",
         "11/11/2023",
         null,
         "0",
         null,
         null,
         "18",
         "23"
        ],
        [
         "ORD1052",
         "CUST003",
         "Charger",
         "12/11/2023",
         "3",
         "300",
         "India",
         "15",
         null,
         "0"
        ],
        [
         "ORD1053",
         "CUST004",
         "USB Drive",
         "11/30/2023",
         "1",
         "0",
         "Germany",
         "0",
         "10",
         "9"
        ],
        [
         "ORD1054",
         "CUST005",
         null,
         "10/28/2023",
         "3",
         "50",
         "Canada",
         "5",
         "5",
         "13"
        ],
        [
         "ORD1055",
         "CUST005",
         "Mouse",
         "11/13/2023",
         "4",
         "120.99",
         null,
         "15",
         "5",
         "19"
        ],
        [
         "ORD1056",
         null,
         "Tablet",
         "NotADate",
         "1",
         "50",
         "USA",
         "0",
         "18",
         "21"
        ],
        [
         "ORD1057",
         "CUST005",
         "Keyboard",
         "12/22/2023",
         "2",
         "120.99",
         "Australia",
         "5",
         "10",
         "47"
        ],
        [
         "ORD1058",
         "CUST005",
         "Webcam",
         "10/23/2023",
         null,
         "75.5",
         "UK",
         "10",
         null,
         "50"
        ],
        [
         "ORD1059",
         "CUST004",
         "USB Drive",
         "11/25/2023",
         null,
         "0",
         "Canada",
         "0",
         "18",
         "30"
        ],
        [
         "ORD1060",
         "CUST005",
         "Keyboard",
         "10/2/2023",
         "1",
         "300",
         "India",
         "5",
         "12",
         "3"
        ]
       ],
       "datasetInfos": [],
       "dbfsResultPath": null,
       "isJsonSchema": true,
       "metadata": {},
       "overflow": false,
       "plotOptions": {
        "customPlotOptions": {},
        "displayType": "table",
        "pivotAggregation": null,
        "pivotColumns": null,
        "xColumns": null,
        "yColumns": null
       },
       "removedWidgets": [],
       "schema": [
        {
         "metadata": "{}",
         "name": "OrderID",
         "type": "\"string\""
        },
        {
         "metadata": "{}",
         "name": "CustomerID",
         "type": "\"string\""
        },
        {
         "metadata": "{}",
         "name": "ProductName",
         "type": "\"string\""
        },
        {
         "metadata": "{}",
         "name": "OrderDate",
         "type": "\"string\""
        },
        {
         "metadata": "{}",
         "name": "Quantity",
         "type": "\"string\""
        },
        {
         "metadata": "{}",
         "name": "PricePerUnit",
         "type": "\"string\""
        },
        {
         "metadata": "{}",
         "name": "Country",
         "type": "\"string\""
        },
        {
         "metadata": "{}",
         "name": "DiscountPercent",
         "type": "\"string\""
        },
        {
         "metadata": "{}",
         "name": "TaxPercent",
         "type": "\"string\""
        },
        {
         "metadata": "{}",
         "name": "StockAvailable",
         "type": "\"string\""
        }
       ],
       "type": "table"
      }
     },
     "output_type": "display_data"
    }
   ],
   "source": [
    "\n",
    "df = spark.read.option(\"header\", \"true\") \\\n",
    "               .format(\"csv\") \\\n",
    "               .load(\"/mnt/newpipeline3/bronze/sample_retail_orders.csv\")\n",
    "\n",
    "display(df)\n",
    "\n",
    "\n",
    "# df = spark.read.json(\"/mnt/newblobpipeline2/<your-file-name>.json\")\n"
   ]
  },
  {
   "cell_type": "code",
   "execution_count": 0,
   "metadata": {
    "application/vnd.databricks.v1+cell": {
     "cellMetadata": {
      "byteLimit": 2048000,
      "rowLimit": 10000
     },
     "inputWidgets": {},
     "nuid": "0881d80a-6fbe-4a85-8e1e-28ff3ea7ff85",
     "showTitle": false,
     "tableResultSettingsMap": {},
     "title": ""
    }
   },
   "outputs": [
    {
     "data": {
      "text/html": [
       "<style scoped>\n",
       "  .table-result-container {\n",
       "    max-height: 300px;\n",
       "    overflow: auto;\n",
       "  }\n",
       "  table, th, td {\n",
       "    border: 1px solid black;\n",
       "    border-collapse: collapse;\n",
       "  }\n",
       "  th, td {\n",
       "    padding: 5px;\n",
       "  }\n",
       "  th {\n",
       "    text-align: left;\n",
       "  }\n",
       "</style><div class='table-result-container'><table class='table-result'><thead style='background-color: white'><tr><th>OrderID</th><th>CustomerID</th><th>ProductName</th><th>OrderDate</th><th>Quantity</th><th>PricePerUnit</th><th>Country</th><th>DiscountPercent</th><th>TaxPercent</th><th>StockAvailable</th></tr></thead><tbody><tr><td>ORD1001</td><td>CUST005</td><td>Hard Drive</td><td>12/29/2023</td><td>2</td><td>300</td><td>Australia</td><td>5</td><td>12</td><td>41</td></tr><tr><td>ORD1002</td><td>CUST003</td><td>Hard Drive</td><td>10/30/2023</td><td>4</td><td>null</td><td>Germany</td><td>15</td><td>null</td><td>29</td></tr><tr><td>ORD1003</td><td>CUST005</td><td>Tablet</td><td>10/8/2023</td><td>4</td><td>300</td><td>UK</td><td>10</td><td>12</td><td>1</td></tr><tr><td>ORD1004</td><td>CUST001</td><td>Speaker</td><td>10/22/2023</td><td>1</td><td>0</td><td>UK</td><td>0</td><td>5</td><td>38</td></tr><tr><td>ORD1005</td><td>CUST002</td><td>Webcam</td><td>11/29/2023</td><td>null</td><td>75.5</td><td>UK</td><td>10</td><td>5</td><td>20</td></tr><tr><td>ORD1006</td><td>CUST004</td><td>Hard Drive</td><td>11/28/2023</td><td>4</td><td>50</td><td>USA</td><td>null</td><td>5</td><td>48</td></tr><tr><td>ORD1008</td><td>CUST004</td><td>Speaker</td><td>NotADate</td><td>1</td><td>300</td><td>Spain</td><td>10</td><td>null</td><td>40</td></tr><tr><td>ORD1010</td><td>CUST001</td><td>Tablet</td><td>11/14/2023</td><td>null</td><td>75.5</td><td>India</td><td>15</td><td>18</td><td>23</td></tr><tr><td>ORD1011</td><td>CUST001</td><td>Charger</td><td>10/13/2023</td><td>five</td><td>50</td><td>Spain</td><td>0</td><td>18</td><td>39</td></tr><tr><td>ORD1012</td><td>CUST005</td><td>Webcam</td><td>10/15/2023</td><td>1</td><td>50</td><td>Canada</td><td>null</td><td>10</td><td>15</td></tr><tr><td>ORD1013</td><td>CUST002</td><td>USB Drive</td><td>12/23/2023</td><td>five</td><td>0</td><td>Spain</td><td>0</td><td>5</td><td>12</td></tr><tr><td>ORD1015</td><td>CUST002</td><td>Webcam</td><td>11/1/2023</td><td>null</td><td>0</td><td>Canada</td><td>10</td><td>18</td><td>6</td></tr><tr><td>ORD1016</td><td>CUST002</td><td>Hard Drive</td><td>NotADate</td><td>null</td><td>0</td><td>India</td><td>10</td><td>null</td><td>20</td></tr><tr><td>ORD1017</td><td>CUST002</td><td>Speaker</td><td>10/12/2023</td><td>4</td><td>50</td><td>Spain</td><td>null</td><td>12</td><td>39</td></tr><tr><td>ORD1019</td><td>CUST001</td><td>Tablet</td><td>11/13/2023</td><td>1</td><td>120.99</td><td>Australia</td><td>0</td><td>null</td><td>37</td></tr><tr><td>ORD1020</td><td>CUST002</td><td>USB Drive</td><td>12/24/2023</td><td>1</td><td>120.99</td><td>USA</td><td>0</td><td>null</td><td>28</td></tr><tr><td>ORD1022</td><td>CUST001</td><td>USB Drive</td><td>11/8/2023</td><td>2</td><td>75.5</td><td>Germany</td><td>5</td><td>10</td><td>13</td></tr><tr><td>ORD1023</td><td>CUST002</td><td>Monitor</td><td>11/26/2023</td><td>3</td><td>50</td><td>Australia</td><td>5</td><td>18</td><td>15</td></tr><tr><td>ORD1024</td><td>CUST003</td><td>USB Drive</td><td>NotADate</td><td>4</td><td>50</td><td>Spain</td><td>15</td><td>null</td><td>31</td></tr><tr><td>ORD1025</td><td>CUST003</td><td>Hard Drive</td><td>10/6/2023</td><td>five</td><td>0</td><td>USA</td><td>null</td><td>18</td><td>38</td></tr><tr><td>ORD1026</td><td>CUST005</td><td>Laptop</td><td>10/12/2023</td><td>five</td><td>75.5</td><td>USA</td><td>5</td><td>null</td><td>46</td></tr><tr><td>ORD1029</td><td>CUST001</td><td>Monitor</td><td>11/11/2023</td><td>1</td><td>75.5</td><td>Germany</td><td>0</td><td>12</td><td>48</td></tr><tr><td>ORD1030</td><td>CUST005</td><td>Speaker</td><td>11/6/2023</td><td>five</td><td>300</td><td>Spain</td><td>15</td><td>18</td><td>30</td></tr><tr><td>ORD1031</td><td>CUST005</td><td>Speaker</td><td>10/22/2023</td><td>4</td><td>null</td><td>India</td><td>10</td><td>18</td><td>36</td></tr><tr><td>ORD1032</td><td>CUST005</td><td>Laptop</td><td>NotADate</td><td>1</td><td>75.5</td><td>null</td><td>10</td><td>12</td><td>40</td></tr><tr><td>ORD1033</td><td>CUST001</td><td>Webcam</td><td>12/30/2023</td><td>five</td><td>50</td><td>India</td><td>10</td><td>10</td><td>4</td></tr><tr><td>ORD1034</td><td>CUST005</td><td>Laptop</td><td>10/21/2023</td><td>3</td><td>300</td><td>USA</td><td>5</td><td>10</td><td>13</td></tr><tr><td>ORD1037</td><td>CUST001</td><td>Hard Drive</td><td>11/25/2023</td><td>five</td><td>120.99</td><td>null</td><td>5</td><td>5</td><td>5</td></tr><tr><td>ORD1038</td><td>CUST004</td><td>Mouse</td><td>12/29/2023</td><td>1</td><td>50</td><td>Germany</td><td>15</td><td>12</td><td>46</td></tr><tr><td>ORD1039</td><td>CUST001</td><td>Monitor</td><td>10/9/2023</td><td>null</td><td>300</td><td>Spain</td><td>15</td><td>18</td><td>26</td></tr><tr><td>ORD1040</td><td>CUST001</td><td>Mouse</td><td>NotADate</td><td>five</td><td>0</td><td>Spain</td><td>null</td><td>12</td><td>34</td></tr><tr><td>ORD1041</td><td>CUST001</td><td>Laptop</td><td>11/29/2023</td><td>2</td><td>300</td><td>Canada</td><td>10</td><td>null</td><td>18</td></tr><tr><td>ORD1043</td><td>CUST005</td><td>Speaker</td><td>12/10/2023</td><td>4</td><td>0</td><td>Australia</td><td>null</td><td>null</td><td>46</td></tr><tr><td>ORD1044</td><td>CUST002</td><td>Charger</td><td>11/28/2023</td><td>3</td><td>120.99</td><td>USA</td><td>null</td><td>5</td><td>39</td></tr><tr><td>ORD1046</td><td>CUST005</td><td>Mouse</td><td>10/21/2023</td><td>1</td><td>75.5</td><td>Germany</td><td>0</td><td>12</td><td>41</td></tr><tr><td>ORD1047</td><td>CUST001</td><td>USB Drive</td><td>11/8/2023</td><td>five</td><td>120.99</td><td>UK</td><td>0</td><td>12</td><td>0</td></tr><tr><td>ORD1048</td><td>CUST003</td><td>Charger</td><td>NotADate</td><td>4</td><td>50</td><td>UK</td><td>15</td><td>null</td><td>16</td></tr><tr><td>ORD1050</td><td>CUST003</td><td>Speaker</td><td>11/7/2023</td><td>4</td><td>75.5</td><td>Canada</td><td>5</td><td>12</td><td>29</td></tr><tr><td>ORD1051</td><td>CUST004</td><td>Laptop</td><td>11/11/2023</td><td>null</td><td>0</td><td>null</td><td>null</td><td>18</td><td>23</td></tr><tr><td>ORD1052</td><td>CUST003</td><td>Charger</td><td>12/11/2023</td><td>3</td><td>300</td><td>India</td><td>15</td><td>null</td><td>0</td></tr><tr><td>ORD1053</td><td>CUST004</td><td>USB Drive</td><td>11/30/2023</td><td>1</td><td>0</td><td>Germany</td><td>0</td><td>10</td><td>9</td></tr><tr><td>ORD1055</td><td>CUST005</td><td>Mouse</td><td>11/13/2023</td><td>4</td><td>120.99</td><td>null</td><td>15</td><td>5</td><td>19</td></tr><tr><td>ORD1057</td><td>CUST005</td><td>Keyboard</td><td>12/22/2023</td><td>2</td><td>120.99</td><td>Australia</td><td>5</td><td>10</td><td>47</td></tr><tr><td>ORD1058</td><td>CUST005</td><td>Webcam</td><td>10/23/2023</td><td>null</td><td>75.5</td><td>UK</td><td>10</td><td>null</td><td>50</td></tr><tr><td>ORD1059</td><td>CUST004</td><td>USB Drive</td><td>11/25/2023</td><td>null</td><td>0</td><td>Canada</td><td>0</td><td>18</td><td>30</td></tr><tr><td>ORD1060</td><td>CUST005</td><td>Keyboard</td><td>10/2/2023</td><td>1</td><td>300</td><td>India</td><td>5</td><td>12</td><td>3</td></tr></tbody></table></div>"
      ]
     },
     "metadata": {
      "application/vnd.databricks.v1+output": {
       "addedWidgets": {},
       "aggData": [],
       "aggError": "",
       "aggOverflow": false,
       "aggSchema": [],
       "aggSeriesLimitReached": false,
       "aggType": "",
       "arguments": {},
       "columnCustomDisplayInfos": {},
       "data": [
        [
         "ORD1001",
         "CUST005",
         "Hard Drive",
         "12/29/2023",
         "2",
         "300",
         "Australia",
         "5",
         "12",
         "41"
        ],
        [
         "ORD1002",
         "CUST003",
         "Hard Drive",
         "10/30/2023",
         "4",
         null,
         "Germany",
         "15",
         null,
         "29"
        ],
        [
         "ORD1003",
         "CUST005",
         "Tablet",
         "10/8/2023",
         "4",
         "300",
         "UK",
         "10",
         "12",
         "1"
        ],
        [
         "ORD1004",
         "CUST001",
         "Speaker",
         "10/22/2023",
         "1",
         "0",
         "UK",
         "0",
         "5",
         "38"
        ],
        [
         "ORD1005",
         "CUST002",
         "Webcam",
         "11/29/2023",
         null,
         "75.5",
         "UK",
         "10",
         "5",
         "20"
        ],
        [
         "ORD1006",
         "CUST004",
         "Hard Drive",
         "11/28/2023",
         "4",
         "50",
         "USA",
         null,
         "5",
         "48"
        ],
        [
         "ORD1008",
         "CUST004",
         "Speaker",
         "NotADate",
         "1",
         "300",
         "Spain",
         "10",
         null,
         "40"
        ],
        [
         "ORD1010",
         "CUST001",
         "Tablet",
         "11/14/2023",
         null,
         "75.5",
         "India",
         "15",
         "18",
         "23"
        ],
        [
         "ORD1011",
         "CUST001",
         "Charger",
         "10/13/2023",
         "five",
         "50",
         "Spain",
         "0",
         "18",
         "39"
        ],
        [
         "ORD1012",
         "CUST005",
         "Webcam",
         "10/15/2023",
         "1",
         "50",
         "Canada",
         null,
         "10",
         "15"
        ],
        [
         "ORD1013",
         "CUST002",
         "USB Drive",
         "12/23/2023",
         "five",
         "0",
         "Spain",
         "0",
         "5",
         "12"
        ],
        [
         "ORD1015",
         "CUST002",
         "Webcam",
         "11/1/2023",
         null,
         "0",
         "Canada",
         "10",
         "18",
         "6"
        ],
        [
         "ORD1016",
         "CUST002",
         "Hard Drive",
         "NotADate",
         null,
         "0",
         "India",
         "10",
         null,
         "20"
        ],
        [
         "ORD1017",
         "CUST002",
         "Speaker",
         "10/12/2023",
         "4",
         "50",
         "Spain",
         null,
         "12",
         "39"
        ],
        [
         "ORD1019",
         "CUST001",
         "Tablet",
         "11/13/2023",
         "1",
         "120.99",
         "Australia",
         "0",
         null,
         "37"
        ],
        [
         "ORD1020",
         "CUST002",
         "USB Drive",
         "12/24/2023",
         "1",
         "120.99",
         "USA",
         "0",
         null,
         "28"
        ],
        [
         "ORD1022",
         "CUST001",
         "USB Drive",
         "11/8/2023",
         "2",
         "75.5",
         "Germany",
         "5",
         "10",
         "13"
        ],
        [
         "ORD1023",
         "CUST002",
         "Monitor",
         "11/26/2023",
         "3",
         "50",
         "Australia",
         "5",
         "18",
         "15"
        ],
        [
         "ORD1024",
         "CUST003",
         "USB Drive",
         "NotADate",
         "4",
         "50",
         "Spain",
         "15",
         null,
         "31"
        ],
        [
         "ORD1025",
         "CUST003",
         "Hard Drive",
         "10/6/2023",
         "five",
         "0",
         "USA",
         null,
         "18",
         "38"
        ],
        [
         "ORD1026",
         "CUST005",
         "Laptop",
         "10/12/2023",
         "five",
         "75.5",
         "USA",
         "5",
         null,
         "46"
        ],
        [
         "ORD1029",
         "CUST001",
         "Monitor",
         "11/11/2023",
         "1",
         "75.5",
         "Germany",
         "0",
         "12",
         "48"
        ],
        [
         "ORD1030",
         "CUST005",
         "Speaker",
         "11/6/2023",
         "five",
         "300",
         "Spain",
         "15",
         "18",
         "30"
        ],
        [
         "ORD1031",
         "CUST005",
         "Speaker",
         "10/22/2023",
         "4",
         null,
         "India",
         "10",
         "18",
         "36"
        ],
        [
         "ORD1032",
         "CUST005",
         "Laptop",
         "NotADate",
         "1",
         "75.5",
         null,
         "10",
         "12",
         "40"
        ],
        [
         "ORD1033",
         "CUST001",
         "Webcam",
         "12/30/2023",
         "five",
         "50",
         "India",
         "10",
         "10",
         "4"
        ],
        [
         "ORD1034",
         "CUST005",
         "Laptop",
         "10/21/2023",
         "3",
         "300",
         "USA",
         "5",
         "10",
         "13"
        ],
        [
         "ORD1037",
         "CUST001",
         "Hard Drive",
         "11/25/2023",
         "five",
         "120.99",
         null,
         "5",
         "5",
         "5"
        ],
        [
         "ORD1038",
         "CUST004",
         "Mouse",
         "12/29/2023",
         "1",
         "50",
         "Germany",
         "15",
         "12",
         "46"
        ],
        [
         "ORD1039",
         "CUST001",
         "Monitor",
         "10/9/2023",
         null,
         "300",
         "Spain",
         "15",
         "18",
         "26"
        ],
        [
         "ORD1040",
         "CUST001",
         "Mouse",
         "NotADate",
         "five",
         "0",
         "Spain",
         null,
         "12",
         "34"
        ],
        [
         "ORD1041",
         "CUST001",
         "Laptop",
         "11/29/2023",
         "2",
         "300",
         "Canada",
         "10",
         null,
         "18"
        ],
        [
         "ORD1043",
         "CUST005",
         "Speaker",
         "12/10/2023",
         "4",
         "0",
         "Australia",
         null,
         null,
         "46"
        ],
        [
         "ORD1044",
         "CUST002",
         "Charger",
         "11/28/2023",
         "3",
         "120.99",
         "USA",
         null,
         "5",
         "39"
        ],
        [
         "ORD1046",
         "CUST005",
         "Mouse",
         "10/21/2023",
         "1",
         "75.5",
         "Germany",
         "0",
         "12",
         "41"
        ],
        [
         "ORD1047",
         "CUST001",
         "USB Drive",
         "11/8/2023",
         "five",
         "120.99",
         "UK",
         "0",
         "12",
         "0"
        ],
        [
         "ORD1048",
         "CUST003",
         "Charger",
         "NotADate",
         "4",
         "50",
         "UK",
         "15",
         null,
         "16"
        ],
        [
         "ORD1050",
         "CUST003",
         "Speaker",
         "11/7/2023",
         "4",
         "75.5",
         "Canada",
         "5",
         "12",
         "29"
        ],
        [
         "ORD1051",
         "CUST004",
         "Laptop",
         "11/11/2023",
         null,
         "0",
         null,
         null,
         "18",
         "23"
        ],
        [
         "ORD1052",
         "CUST003",
         "Charger",
         "12/11/2023",
         "3",
         "300",
         "India",
         "15",
         null,
         "0"
        ],
        [
         "ORD1053",
         "CUST004",
         "USB Drive",
         "11/30/2023",
         "1",
         "0",
         "Germany",
         "0",
         "10",
         "9"
        ],
        [
         "ORD1055",
         "CUST005",
         "Mouse",
         "11/13/2023",
         "4",
         "120.99",
         null,
         "15",
         "5",
         "19"
        ],
        [
         "ORD1057",
         "CUST005",
         "Keyboard",
         "12/22/2023",
         "2",
         "120.99",
         "Australia",
         "5",
         "10",
         "47"
        ],
        [
         "ORD1058",
         "CUST005",
         "Webcam",
         "10/23/2023",
         null,
         "75.5",
         "UK",
         "10",
         null,
         "50"
        ],
        [
         "ORD1059",
         "CUST004",
         "USB Drive",
         "11/25/2023",
         null,
         "0",
         "Canada",
         "0",
         "18",
         "30"
        ],
        [
         "ORD1060",
         "CUST005",
         "Keyboard",
         "10/2/2023",
         "1",
         "300",
         "India",
         "5",
         "12",
         "3"
        ]
       ],
       "datasetInfos": [],
       "dbfsResultPath": null,
       "isJsonSchema": true,
       "metadata": {},
       "overflow": false,
       "plotOptions": {
        "customPlotOptions": {},
        "displayType": "table",
        "pivotAggregation": null,
        "pivotColumns": null,
        "xColumns": null,
        "yColumns": null
       },
       "removedWidgets": [],
       "schema": [
        {
         "metadata": "{}",
         "name": "OrderID",
         "type": "\"string\""
        },
        {
         "metadata": "{}",
         "name": "CustomerID",
         "type": "\"string\""
        },
        {
         "metadata": "{}",
         "name": "ProductName",
         "type": "\"string\""
        },
        {
         "metadata": "{}",
         "name": "OrderDate",
         "type": "\"string\""
        },
        {
         "metadata": "{}",
         "name": "Quantity",
         "type": "\"string\""
        },
        {
         "metadata": "{}",
         "name": "PricePerUnit",
         "type": "\"string\""
        },
        {
         "metadata": "{}",
         "name": "Country",
         "type": "\"string\""
        },
        {
         "metadata": "{}",
         "name": "DiscountPercent",
         "type": "\"string\""
        },
        {
         "metadata": "{}",
         "name": "TaxPercent",
         "type": "\"string\""
        },
        {
         "metadata": "{}",
         "name": "StockAvailable",
         "type": "\"string\""
        }
       ],
       "type": "table"
      }
     },
     "output_type": "display_data"
    }
   ],
   "source": [
    "df1 = df.dropna(subset=[\"CustomerID\",\"ProductName\",\"OrderDate\"])\n",
    "display(df1)"
   ]
  },
  {
   "cell_type": "code",
   "execution_count": 0,
   "metadata": {
    "application/vnd.databricks.v1+cell": {
     "cellMetadata": {
      "byteLimit": 2048000,
      "rowLimit": 10000
     },
     "inputWidgets": {},
     "nuid": "0dc0f96e-fedd-46e3-98fb-a962747e82db",
     "showTitle": false,
     "tableResultSettingsMap": {},
     "title": ""
    }
   },
   "outputs": [
    {
     "data": {
      "text/html": [
       "<style scoped>\n",
       "  .table-result-container {\n",
       "    max-height: 300px;\n",
       "    overflow: auto;\n",
       "  }\n",
       "  table, th, td {\n",
       "    border: 1px solid black;\n",
       "    border-collapse: collapse;\n",
       "  }\n",
       "  th, td {\n",
       "    padding: 5px;\n",
       "  }\n",
       "  th {\n",
       "    text-align: left;\n",
       "  }\n",
       "</style><div class='table-result-container'><table class='table-result'><thead style='background-color: white'><tr><th>OrderID</th><th>CustomerID</th><th>ProductName</th><th>OrderDate</th><th>Quantity</th><th>PricePerUnit</th><th>Country</th><th>DiscountPercent</th><th>TaxPercent</th><th>StockAvailable</th></tr></thead><tbody><tr><td>ORD1001</td><td>CUST005</td><td>Hard Drive</td><td>12/29/2023</td><td>2</td><td>300</td><td>Australia</td><td>5</td><td>12</td><td>41</td></tr><tr><td>ORD1002</td><td>CUST003</td><td>Hard Drive</td><td>10/30/2023</td><td>4</td><td>0.0</td><td>Germany</td><td>15</td><td>0</td><td>29</td></tr><tr><td>ORD1003</td><td>CUST005</td><td>Tablet</td><td>10/8/2023</td><td>4</td><td>300</td><td>UK</td><td>10</td><td>12</td><td>1</td></tr><tr><td>ORD1004</td><td>CUST001</td><td>Speaker</td><td>10/22/2023</td><td>1</td><td>0</td><td>UK</td><td>0</td><td>5</td><td>38</td></tr><tr><td>ORD1005</td><td>CUST002</td><td>Webcam</td><td>11/29/2023</td><td>0</td><td>75.5</td><td>UK</td><td>10</td><td>5</td><td>20</td></tr><tr><td>ORD1006</td><td>CUST004</td><td>Hard Drive</td><td>11/28/2023</td><td>4</td><td>50</td><td>USA</td><td>0</td><td>5</td><td>48</td></tr><tr><td>ORD1007</td><td>null</td><td>Webcam</td><td>10/30/2023</td><td>2</td><td>75.5</td><td>Spain</td><td>0</td><td>10</td><td>15</td></tr><tr><td>ORD1008</td><td>CUST004</td><td>Speaker</td><td>NotADate</td><td>1</td><td>300</td><td>Spain</td><td>10</td><td>0</td><td>40</td></tr><tr><td>ORD1009</td><td>CUST005</td><td>null</td><td>12/14/2023</td><td>0</td><td>75.5</td><td>Australia</td><td>5</td><td>18</td><td>26</td></tr><tr><td>ORD1010</td><td>CUST001</td><td>Tablet</td><td>11/14/2023</td><td>0</td><td>75.5</td><td>India</td><td>15</td><td>18</td><td>23</td></tr><tr><td>ORD1011</td><td>CUST001</td><td>Charger</td><td>10/13/2023</td><td>five</td><td>50</td><td>Spain</td><td>0</td><td>18</td><td>39</td></tr><tr><td>ORD1012</td><td>CUST005</td><td>Webcam</td><td>10/15/2023</td><td>1</td><td>50</td><td>Canada</td><td>0</td><td>10</td><td>15</td></tr><tr><td>ORD1013</td><td>CUST002</td><td>USB Drive</td><td>12/23/2023</td><td>five</td><td>0</td><td>Spain</td><td>0</td><td>5</td><td>12</td></tr><tr><td>ORD1014</td><td>null</td><td>USB Drive</td><td>10/26/2023</td><td>4</td><td>0</td><td>Australia</td><td>5</td><td>5</td><td>32</td></tr><tr><td>ORD1015</td><td>CUST002</td><td>Webcam</td><td>11/1/2023</td><td>0</td><td>0</td><td>Canada</td><td>10</td><td>18</td><td>6</td></tr><tr><td>ORD1016</td><td>CUST002</td><td>Hard Drive</td><td>NotADate</td><td>0</td><td>0</td><td>India</td><td>10</td><td>0</td><td>20</td></tr><tr><td>ORD1017</td><td>CUST002</td><td>Speaker</td><td>10/12/2023</td><td>4</td><td>50</td><td>Spain</td><td>0</td><td>12</td><td>39</td></tr><tr><td>ORD1018</td><td>CUST005</td><td>null</td><td>12/10/2023</td><td>3</td><td>0</td><td>UK</td><td>15</td><td>0</td><td>43</td></tr><tr><td>ORD1019</td><td>CUST001</td><td>Tablet</td><td>11/13/2023</td><td>1</td><td>120.99</td><td>Australia</td><td>0</td><td>0</td><td>37</td></tr><tr><td>ORD1020</td><td>CUST002</td><td>USB Drive</td><td>12/24/2023</td><td>1</td><td>120.99</td><td>USA</td><td>0</td><td>0</td><td>28</td></tr><tr><td>ORD1021</td><td>null</td><td>Speaker</td><td>12/28/2023</td><td>five</td><td>75.5</td><td>Australia</td><td>15</td><td>5</td><td>11</td></tr><tr><td>ORD1022</td><td>CUST001</td><td>USB Drive</td><td>11/8/2023</td><td>2</td><td>75.5</td><td>Germany</td><td>5</td><td>10</td><td>13</td></tr><tr><td>ORD1023</td><td>CUST002</td><td>Monitor</td><td>11/26/2023</td><td>3</td><td>50</td><td>Australia</td><td>5</td><td>18</td><td>15</td></tr><tr><td>ORD1024</td><td>CUST003</td><td>USB Drive</td><td>NotADate</td><td>4</td><td>50</td><td>Spain</td><td>15</td><td>0</td><td>31</td></tr><tr><td>ORD1025</td><td>CUST003</td><td>Hard Drive</td><td>10/6/2023</td><td>five</td><td>0</td><td>USA</td><td>0</td><td>18</td><td>38</td></tr><tr><td>ORD1026</td><td>CUST005</td><td>Laptop</td><td>10/12/2023</td><td>five</td><td>75.5</td><td>USA</td><td>5</td><td>0</td><td>46</td></tr><tr><td>ORD1027</td><td>CUST003</td><td>null</td><td>11/18/2023</td><td>1</td><td>0.0</td><td>India</td><td>0</td><td>10</td><td>8</td></tr><tr><td>ORD1028</td><td>null</td><td>Webcam</td><td>11/20/2023</td><td>1</td><td>75.5</td><td>USA</td><td>0</td><td>0</td><td>46</td></tr><tr><td>ORD1029</td><td>CUST001</td><td>Monitor</td><td>11/11/2023</td><td>1</td><td>75.5</td><td>Germany</td><td>0</td><td>12</td><td>48</td></tr><tr><td>ORD1030</td><td>CUST005</td><td>Speaker</td><td>11/6/2023</td><td>five</td><td>300</td><td>Spain</td><td>15</td><td>18</td><td>30</td></tr><tr><td>ORD1031</td><td>CUST005</td><td>Speaker</td><td>10/22/2023</td><td>4</td><td>0.0</td><td>India</td><td>10</td><td>18</td><td>36</td></tr><tr><td>ORD1032</td><td>CUST005</td><td>Laptop</td><td>NotADate</td><td>1</td><td>75.5</td><td>null</td><td>10</td><td>12</td><td>40</td></tr><tr><td>ORD1033</td><td>CUST001</td><td>Webcam</td><td>12/30/2023</td><td>five</td><td>50</td><td>India</td><td>10</td><td>10</td><td>4</td></tr><tr><td>ORD1034</td><td>CUST005</td><td>Laptop</td><td>10/21/2023</td><td>3</td><td>300</td><td>USA</td><td>5</td><td>10</td><td>13</td></tr><tr><td>ORD1035</td><td>null</td><td>Monitor</td><td>12/2/2023</td><td>five</td><td>120.99</td><td>India</td><td>5</td><td>5</td><td>25</td></tr><tr><td>ORD1036</td><td>CUST002</td><td>null</td><td>12/8/2023</td><td>3</td><td>0.0</td><td>India</td><td>10</td><td>5</td><td>11</td></tr><tr><td>ORD1037</td><td>CUST001</td><td>Hard Drive</td><td>11/25/2023</td><td>five</td><td>120.99</td><td>null</td><td>5</td><td>5</td><td>5</td></tr><tr><td>ORD1038</td><td>CUST004</td><td>Mouse</td><td>12/29/2023</td><td>1</td><td>50</td><td>Germany</td><td>15</td><td>12</td><td>46</td></tr><tr><td>ORD1039</td><td>CUST001</td><td>Monitor</td><td>10/9/2023</td><td>0</td><td>300</td><td>Spain</td><td>15</td><td>18</td><td>26</td></tr><tr><td>ORD1040</td><td>CUST001</td><td>Mouse</td><td>NotADate</td><td>five</td><td>0</td><td>Spain</td><td>0</td><td>12</td><td>34</td></tr><tr><td>ORD1041</td><td>CUST001</td><td>Laptop</td><td>11/29/2023</td><td>2</td><td>300</td><td>Canada</td><td>10</td><td>0</td><td>18</td></tr><tr><td>ORD1042</td><td>null</td><td>Mouse</td><td>11/17/2023</td><td>0</td><td>300</td><td>Spain</td><td>15</td><td>5</td><td>15</td></tr><tr><td>ORD1043</td><td>CUST005</td><td>Speaker</td><td>12/10/2023</td><td>4</td><td>0</td><td>Australia</td><td>0</td><td>0</td><td>46</td></tr><tr><td>ORD1044</td><td>CUST002</td><td>Charger</td><td>11/28/2023</td><td>3</td><td>120.99</td><td>USA</td><td>0</td><td>5</td><td>39</td></tr><tr><td>ORD1045</td><td>CUST005</td><td>null</td><td>10/22/2023</td><td>five</td><td>0.0</td><td>null</td><td>15</td><td>5</td><td>38</td></tr><tr><td>ORD1046</td><td>CUST005</td><td>Mouse</td><td>10/21/2023</td><td>1</td><td>75.5</td><td>Germany</td><td>0</td><td>12</td><td>41</td></tr><tr><td>ORD1047</td><td>CUST001</td><td>USB Drive</td><td>11/8/2023</td><td>five</td><td>120.99</td><td>UK</td><td>0</td><td>12</td><td>0</td></tr><tr><td>ORD1048</td><td>CUST003</td><td>Charger</td><td>NotADate</td><td>4</td><td>50</td><td>UK</td><td>15</td><td>0</td><td>16</td></tr><tr><td>ORD1049</td><td>null</td><td>Keyboard</td><td>11/24/2023</td><td>2</td><td>50</td><td>USA</td><td>15</td><td>12</td><td>26</td></tr><tr><td>ORD1050</td><td>CUST003</td><td>Speaker</td><td>11/7/2023</td><td>4</td><td>75.5</td><td>Canada</td><td>5</td><td>12</td><td>29</td></tr><tr><td>ORD1051</td><td>CUST004</td><td>Laptop</td><td>11/11/2023</td><td>0</td><td>0</td><td>null</td><td>0</td><td>18</td><td>23</td></tr><tr><td>ORD1052</td><td>CUST003</td><td>Charger</td><td>12/11/2023</td><td>3</td><td>300</td><td>India</td><td>15</td><td>0</td><td>0</td></tr><tr><td>ORD1053</td><td>CUST004</td><td>USB Drive</td><td>11/30/2023</td><td>1</td><td>0</td><td>Germany</td><td>0</td><td>10</td><td>9</td></tr><tr><td>ORD1054</td><td>CUST005</td><td>null</td><td>10/28/2023</td><td>3</td><td>50</td><td>Canada</td><td>5</td><td>5</td><td>13</td></tr><tr><td>ORD1055</td><td>CUST005</td><td>Mouse</td><td>11/13/2023</td><td>4</td><td>120.99</td><td>null</td><td>15</td><td>5</td><td>19</td></tr><tr><td>ORD1056</td><td>null</td><td>Tablet</td><td>NotADate</td><td>1</td><td>50</td><td>USA</td><td>0</td><td>18</td><td>21</td></tr><tr><td>ORD1057</td><td>CUST005</td><td>Keyboard</td><td>12/22/2023</td><td>2</td><td>120.99</td><td>Australia</td><td>5</td><td>10</td><td>47</td></tr><tr><td>ORD1058</td><td>CUST005</td><td>Webcam</td><td>10/23/2023</td><td>0</td><td>75.5</td><td>UK</td><td>10</td><td>0</td><td>50</td></tr><tr><td>ORD1059</td><td>CUST004</td><td>USB Drive</td><td>11/25/2023</td><td>0</td><td>0</td><td>Canada</td><td>0</td><td>18</td><td>30</td></tr><tr><td>ORD1060</td><td>CUST005</td><td>Keyboard</td><td>10/2/2023</td><td>1</td><td>300</td><td>India</td><td>5</td><td>12</td><td>3</td></tr></tbody></table></div>"
      ]
     },
     "metadata": {
      "application/vnd.databricks.v1+output": {
       "addedWidgets": {},
       "aggData": [],
       "aggError": "",
       "aggOverflow": false,
       "aggSchema": [],
       "aggSeriesLimitReached": false,
       "aggType": "",
       "arguments": {},
       "columnCustomDisplayInfos": {},
       "data": [
        [
         "ORD1001",
         "CUST005",
         "Hard Drive",
         "12/29/2023",
         "2",
         "300",
         "Australia",
         "5",
         "12",
         "41"
        ],
        [
         "ORD1002",
         "CUST003",
         "Hard Drive",
         "10/30/2023",
         "4",
         "0.0",
         "Germany",
         "15",
         "0",
         "29"
        ],
        [
         "ORD1003",
         "CUST005",
         "Tablet",
         "10/8/2023",
         "4",
         "300",
         "UK",
         "10",
         "12",
         "1"
        ],
        [
         "ORD1004",
         "CUST001",
         "Speaker",
         "10/22/2023",
         "1",
         "0",
         "UK",
         "0",
         "5",
         "38"
        ],
        [
         "ORD1005",
         "CUST002",
         "Webcam",
         "11/29/2023",
         "0",
         "75.5",
         "UK",
         "10",
         "5",
         "20"
        ],
        [
         "ORD1006",
         "CUST004",
         "Hard Drive",
         "11/28/2023",
         "4",
         "50",
         "USA",
         "0",
         "5",
         "48"
        ],
        [
         "ORD1007",
         null,
         "Webcam",
         "10/30/2023",
         "2",
         "75.5",
         "Spain",
         "0",
         "10",
         "15"
        ],
        [
         "ORD1008",
         "CUST004",
         "Speaker",
         "NotADate",
         "1",
         "300",
         "Spain",
         "10",
         "0",
         "40"
        ],
        [
         "ORD1009",
         "CUST005",
         null,
         "12/14/2023",
         "0",
         "75.5",
         "Australia",
         "5",
         "18",
         "26"
        ],
        [
         "ORD1010",
         "CUST001",
         "Tablet",
         "11/14/2023",
         "0",
         "75.5",
         "India",
         "15",
         "18",
         "23"
        ],
        [
         "ORD1011",
         "CUST001",
         "Charger",
         "10/13/2023",
         "five",
         "50",
         "Spain",
         "0",
         "18",
         "39"
        ],
        [
         "ORD1012",
         "CUST005",
         "Webcam",
         "10/15/2023",
         "1",
         "50",
         "Canada",
         "0",
         "10",
         "15"
        ],
        [
         "ORD1013",
         "CUST002",
         "USB Drive",
         "12/23/2023",
         "five",
         "0",
         "Spain",
         "0",
         "5",
         "12"
        ],
        [
         "ORD1014",
         null,
         "USB Drive",
         "10/26/2023",
         "4",
         "0",
         "Australia",
         "5",
         "5",
         "32"
        ],
        [
         "ORD1015",
         "CUST002",
         "Webcam",
         "11/1/2023",
         "0",
         "0",
         "Canada",
         "10",
         "18",
         "6"
        ],
        [
         "ORD1016",
         "CUST002",
         "Hard Drive",
         "NotADate",
         "0",
         "0",
         "India",
         "10",
         "0",
         "20"
        ],
        [
         "ORD1017",
         "CUST002",
         "Speaker",
         "10/12/2023",
         "4",
         "50",
         "Spain",
         "0",
         "12",
         "39"
        ],
        [
         "ORD1018",
         "CUST005",
         null,
         "12/10/2023",
         "3",
         "0",
         "UK",
         "15",
         "0",
         "43"
        ],
        [
         "ORD1019",
         "CUST001",
         "Tablet",
         "11/13/2023",
         "1",
         "120.99",
         "Australia",
         "0",
         "0",
         "37"
        ],
        [
         "ORD1020",
         "CUST002",
         "USB Drive",
         "12/24/2023",
         "1",
         "120.99",
         "USA",
         "0",
         "0",
         "28"
        ],
        [
         "ORD1021",
         null,
         "Speaker",
         "12/28/2023",
         "five",
         "75.5",
         "Australia",
         "15",
         "5",
         "11"
        ],
        [
         "ORD1022",
         "CUST001",
         "USB Drive",
         "11/8/2023",
         "2",
         "75.5",
         "Germany",
         "5",
         "10",
         "13"
        ],
        [
         "ORD1023",
         "CUST002",
         "Monitor",
         "11/26/2023",
         "3",
         "50",
         "Australia",
         "5",
         "18",
         "15"
        ],
        [
         "ORD1024",
         "CUST003",
         "USB Drive",
         "NotADate",
         "4",
         "50",
         "Spain",
         "15",
         "0",
         "31"
        ],
        [
         "ORD1025",
         "CUST003",
         "Hard Drive",
         "10/6/2023",
         "five",
         "0",
         "USA",
         "0",
         "18",
         "38"
        ],
        [
         "ORD1026",
         "CUST005",
         "Laptop",
         "10/12/2023",
         "five",
         "75.5",
         "USA",
         "5",
         "0",
         "46"
        ],
        [
         "ORD1027",
         "CUST003",
         null,
         "11/18/2023",
         "1",
         "0.0",
         "India",
         "0",
         "10",
         "8"
        ],
        [
         "ORD1028",
         null,
         "Webcam",
         "11/20/2023",
         "1",
         "75.5",
         "USA",
         "0",
         "0",
         "46"
        ],
        [
         "ORD1029",
         "CUST001",
         "Monitor",
         "11/11/2023",
         "1",
         "75.5",
         "Germany",
         "0",
         "12",
         "48"
        ],
        [
         "ORD1030",
         "CUST005",
         "Speaker",
         "11/6/2023",
         "five",
         "300",
         "Spain",
         "15",
         "18",
         "30"
        ],
        [
         "ORD1031",
         "CUST005",
         "Speaker",
         "10/22/2023",
         "4",
         "0.0",
         "India",
         "10",
         "18",
         "36"
        ],
        [
         "ORD1032",
         "CUST005",
         "Laptop",
         "NotADate",
         "1",
         "75.5",
         null,
         "10",
         "12",
         "40"
        ],
        [
         "ORD1033",
         "CUST001",
         "Webcam",
         "12/30/2023",
         "five",
         "50",
         "India",
         "10",
         "10",
         "4"
        ],
        [
         "ORD1034",
         "CUST005",
         "Laptop",
         "10/21/2023",
         "3",
         "300",
         "USA",
         "5",
         "10",
         "13"
        ],
        [
         "ORD1035",
         null,
         "Monitor",
         "12/2/2023",
         "five",
         "120.99",
         "India",
         "5",
         "5",
         "25"
        ],
        [
         "ORD1036",
         "CUST002",
         null,
         "12/8/2023",
         "3",
         "0.0",
         "India",
         "10",
         "5",
         "11"
        ],
        [
         "ORD1037",
         "CUST001",
         "Hard Drive",
         "11/25/2023",
         "five",
         "120.99",
         null,
         "5",
         "5",
         "5"
        ],
        [
         "ORD1038",
         "CUST004",
         "Mouse",
         "12/29/2023",
         "1",
         "50",
         "Germany",
         "15",
         "12",
         "46"
        ],
        [
         "ORD1039",
         "CUST001",
         "Monitor",
         "10/9/2023",
         "0",
         "300",
         "Spain",
         "15",
         "18",
         "26"
        ],
        [
         "ORD1040",
         "CUST001",
         "Mouse",
         "NotADate",
         "five",
         "0",
         "Spain",
         "0",
         "12",
         "34"
        ],
        [
         "ORD1041",
         "CUST001",
         "Laptop",
         "11/29/2023",
         "2",
         "300",
         "Canada",
         "10",
         "0",
         "18"
        ],
        [
         "ORD1042",
         null,
         "Mouse",
         "11/17/2023",
         "0",
         "300",
         "Spain",
         "15",
         "5",
         "15"
        ],
        [
         "ORD1043",
         "CUST005",
         "Speaker",
         "12/10/2023",
         "4",
         "0",
         "Australia",
         "0",
         "0",
         "46"
        ],
        [
         "ORD1044",
         "CUST002",
         "Charger",
         "11/28/2023",
         "3",
         "120.99",
         "USA",
         "0",
         "5",
         "39"
        ],
        [
         "ORD1045",
         "CUST005",
         null,
         "10/22/2023",
         "five",
         "0.0",
         null,
         "15",
         "5",
         "38"
        ],
        [
         "ORD1046",
         "CUST005",
         "Mouse",
         "10/21/2023",
         "1",
         "75.5",
         "Germany",
         "0",
         "12",
         "41"
        ],
        [
         "ORD1047",
         "CUST001",
         "USB Drive",
         "11/8/2023",
         "five",
         "120.99",
         "UK",
         "0",
         "12",
         "0"
        ],
        [
         "ORD1048",
         "CUST003",
         "Charger",
         "NotADate",
         "4",
         "50",
         "UK",
         "15",
         "0",
         "16"
        ],
        [
         "ORD1049",
         null,
         "Keyboard",
         "11/24/2023",
         "2",
         "50",
         "USA",
         "15",
         "12",
         "26"
        ],
        [
         "ORD1050",
         "CUST003",
         "Speaker",
         "11/7/2023",
         "4",
         "75.5",
         "Canada",
         "5",
         "12",
         "29"
        ],
        [
         "ORD1051",
         "CUST004",
         "Laptop",
         "11/11/2023",
         "0",
         "0",
         null,
         "0",
         "18",
         "23"
        ],
        [
         "ORD1052",
         "CUST003",
         "Charger",
         "12/11/2023",
         "3",
         "300",
         "India",
         "15",
         "0",
         "0"
        ],
        [
         "ORD1053",
         "CUST004",
         "USB Drive",
         "11/30/2023",
         "1",
         "0",
         "Germany",
         "0",
         "10",
         "9"
        ],
        [
         "ORD1054",
         "CUST005",
         null,
         "10/28/2023",
         "3",
         "50",
         "Canada",
         "5",
         "5",
         "13"
        ],
        [
         "ORD1055",
         "CUST005",
         "Mouse",
         "11/13/2023",
         "4",
         "120.99",
         null,
         "15",
         "5",
         "19"
        ],
        [
         "ORD1056",
         null,
         "Tablet",
         "NotADate",
         "1",
         "50",
         "USA",
         "0",
         "18",
         "21"
        ],
        [
         "ORD1057",
         "CUST005",
         "Keyboard",
         "12/22/2023",
         "2",
         "120.99",
         "Australia",
         "5",
         "10",
         "47"
        ],
        [
         "ORD1058",
         "CUST005",
         "Webcam",
         "10/23/2023",
         "0",
         "75.5",
         "UK",
         "10",
         "0",
         "50"
        ],
        [
         "ORD1059",
         "CUST004",
         "USB Drive",
         "11/25/2023",
         "0",
         "0",
         "Canada",
         "0",
         "18",
         "30"
        ],
        [
         "ORD1060",
         "CUST005",
         "Keyboard",
         "10/2/2023",
         "1",
         "300",
         "India",
         "5",
         "12",
         "3"
        ]
       ],
       "datasetInfos": [],
       "dbfsResultPath": null,
       "isJsonSchema": true,
       "metadata": {},
       "overflow": false,
       "plotOptions": {
        "customPlotOptions": {},
        "displayType": "table",
        "pivotAggregation": null,
        "pivotColumns": null,
        "xColumns": null,
        "yColumns": null
       },
       "removedWidgets": [],
       "schema": [
        {
         "metadata": "{}",
         "name": "OrderID",
         "type": "\"string\""
        },
        {
         "metadata": "{}",
         "name": "CustomerID",
         "type": "\"string\""
        },
        {
         "metadata": "{}",
         "name": "ProductName",
         "type": "\"string\""
        },
        {
         "metadata": "{}",
         "name": "OrderDate",
         "type": "\"string\""
        },
        {
         "metadata": "{}",
         "name": "Quantity",
         "type": "\"string\""
        },
        {
         "metadata": "{}",
         "name": "PricePerUnit",
         "type": "\"string\""
        },
        {
         "metadata": "{}",
         "name": "Country",
         "type": "\"string\""
        },
        {
         "metadata": "{}",
         "name": "DiscountPercent",
         "type": "\"string\""
        },
        {
         "metadata": "{}",
         "name": "TaxPercent",
         "type": "\"string\""
        },
        {
         "metadata": "{}",
         "name": "StockAvailable",
         "type": "\"string\""
        }
       ],
       "type": "table"
      }
     },
     "output_type": "display_data"
    }
   ],
   "source": [
    "df2 = df.fillna({\"Quantity\" :0, \"PricePerUnit\":0.0,\"DiscountPercent\":0,\"TaxPercent\":0 })\n",
    "display(df2)"
   ]
  },
  {
   "cell_type": "code",
   "execution_count": 0,
   "metadata": {
    "application/vnd.databricks.v1+cell": {
     "cellMetadata": {
      "byteLimit": 2048000,
      "rowLimit": 10000
     },
     "inputWidgets": {},
     "nuid": "510dfc55-d338-45a5-a958-d40af7a416b5",
     "showTitle": false,
     "tableResultSettingsMap": {},
     "title": ""
    }
   },
   "outputs": [
    {
     "data": {
      "text/html": [
       "<style scoped>\n",
       "  .table-result-container {\n",
       "    max-height: 300px;\n",
       "    overflow: auto;\n",
       "  }\n",
       "  table, th, td {\n",
       "    border: 1px solid black;\n",
       "    border-collapse: collapse;\n",
       "  }\n",
       "  th, td {\n",
       "    padding: 5px;\n",
       "  }\n",
       "  th {\n",
       "    text-align: left;\n",
       "  }\n",
       "</style><div class='table-result-container'><table class='table-result'><thead style='background-color: white'><tr><th>OrderID</th><th>CustomerID</th><th>ProductName</th><th>OrderDate</th><th>Quantity</th><th>PricePerUnit</th><th>Country</th><th>DiscountPercent</th><th>TaxPercent</th><th>StockAvailable</th><th>Quanrity</th><th>TotalAmount</th></tr></thead><tbody><tr><td>ORD1001</td><td>CUST005</td><td>Hard Drive</td><td>null</td><td>2</td><td>300</td><td>australia</td><td>5.0</td><td>12</td><td>41</td><td>2</td><td>600.0</td></tr><tr><td>ORD1002</td><td>CUST003</td><td>Hard Drive</td><td>null</td><td>4</td><td>0.0</td><td>germany</td><td>15.0</td><td>0</td><td>29</td><td>4</td><td>0.0</td></tr><tr><td>ORD1003</td><td>CUST005</td><td>Tablet</td><td>null</td><td>4</td><td>300</td><td>uk</td><td>10.0</td><td>12</td><td>1</td><td>4</td><td>1200.0</td></tr><tr><td>ORD1004</td><td>CUST001</td><td>Speaker</td><td>null</td><td>1</td><td>0</td><td>uk</td><td>0.0</td><td>5</td><td>38</td><td>1</td><td>0.0</td></tr><tr><td>ORD1005</td><td>CUST002</td><td>Webcam</td><td>null</td><td>0</td><td>75.5</td><td>uk</td><td>10.0</td><td>5</td><td>20</td><td>0</td><td>0.0</td></tr><tr><td>ORD1006</td><td>CUST004</td><td>Hard Drive</td><td>null</td><td>4</td><td>50</td><td>usa</td><td>0.0</td><td>5</td><td>48</td><td>4</td><td>200.0</td></tr><tr><td>ORD1007</td><td>null</td><td>Webcam</td><td>null</td><td>2</td><td>75.5</td><td>spain</td><td>0.0</td><td>10</td><td>15</td><td>2</td><td>151.0</td></tr><tr><td>ORD1008</td><td>CUST004</td><td>Speaker</td><td>null</td><td>1</td><td>300</td><td>spain</td><td>10.0</td><td>0</td><td>40</td><td>1</td><td>300.0</td></tr><tr><td>ORD1009</td><td>CUST005</td><td>null</td><td>null</td><td>0</td><td>75.5</td><td>australia</td><td>5.0</td><td>18</td><td>26</td><td>0</td><td>0.0</td></tr><tr><td>ORD1010</td><td>CUST001</td><td>Tablet</td><td>null</td><td>0</td><td>75.5</td><td>india</td><td>15.0</td><td>18</td><td>23</td><td>0</td><td>0.0</td></tr><tr><td>ORD1011</td><td>CUST001</td><td>Charger</td><td>null</td><td>five</td><td>50</td><td>spain</td><td>0.0</td><td>18</td><td>39</td><td>null</td><td>null</td></tr><tr><td>ORD1012</td><td>CUST005</td><td>Webcam</td><td>null</td><td>1</td><td>50</td><td>canada</td><td>0.0</td><td>10</td><td>15</td><td>1</td><td>50.0</td></tr><tr><td>ORD1013</td><td>CUST002</td><td>USB Drive</td><td>null</td><td>five</td><td>0</td><td>spain</td><td>0.0</td><td>5</td><td>12</td><td>null</td><td>null</td></tr><tr><td>ORD1014</td><td>null</td><td>USB Drive</td><td>null</td><td>4</td><td>0</td><td>australia</td><td>5.0</td><td>5</td><td>32</td><td>4</td><td>0.0</td></tr><tr><td>ORD1015</td><td>CUST002</td><td>Webcam</td><td>null</td><td>0</td><td>0</td><td>canada</td><td>10.0</td><td>18</td><td>6</td><td>0</td><td>0.0</td></tr><tr><td>ORD1016</td><td>CUST002</td><td>Hard Drive</td><td>null</td><td>0</td><td>0</td><td>india</td><td>10.0</td><td>0</td><td>20</td><td>0</td><td>0.0</td></tr><tr><td>ORD1017</td><td>CUST002</td><td>Speaker</td><td>null</td><td>4</td><td>50</td><td>spain</td><td>0.0</td><td>12</td><td>39</td><td>4</td><td>200.0</td></tr><tr><td>ORD1018</td><td>CUST005</td><td>null</td><td>null</td><td>3</td><td>0</td><td>uk</td><td>15.0</td><td>0</td><td>43</td><td>3</td><td>0.0</td></tr><tr><td>ORD1019</td><td>CUST001</td><td>Tablet</td><td>null</td><td>1</td><td>120.99</td><td>australia</td><td>0.0</td><td>0</td><td>37</td><td>1</td><td>120.99</td></tr><tr><td>ORD1020</td><td>CUST002</td><td>USB Drive</td><td>null</td><td>1</td><td>120.99</td><td>usa</td><td>0.0</td><td>0</td><td>28</td><td>1</td><td>120.99</td></tr><tr><td>ORD1021</td><td>null</td><td>Speaker</td><td>null</td><td>five</td><td>75.5</td><td>australia</td><td>15.0</td><td>5</td><td>11</td><td>null</td><td>null</td></tr><tr><td>ORD1022</td><td>CUST001</td><td>USB Drive</td><td>null</td><td>2</td><td>75.5</td><td>germany</td><td>5.0</td><td>10</td><td>13</td><td>2</td><td>151.0</td></tr><tr><td>ORD1023</td><td>CUST002</td><td>Monitor</td><td>null</td><td>3</td><td>50</td><td>australia</td><td>5.0</td><td>18</td><td>15</td><td>3</td><td>150.0</td></tr><tr><td>ORD1024</td><td>CUST003</td><td>USB Drive</td><td>null</td><td>4</td><td>50</td><td>spain</td><td>15.0</td><td>0</td><td>31</td><td>4</td><td>200.0</td></tr><tr><td>ORD1025</td><td>CUST003</td><td>Hard Drive</td><td>null</td><td>five</td><td>0</td><td>usa</td><td>0.0</td><td>18</td><td>38</td><td>null</td><td>null</td></tr><tr><td>ORD1026</td><td>CUST005</td><td>Laptop</td><td>null</td><td>five</td><td>75.5</td><td>usa</td><td>5.0</td><td>0</td><td>46</td><td>null</td><td>null</td></tr><tr><td>ORD1027</td><td>CUST003</td><td>null</td><td>null</td><td>1</td><td>0.0</td><td>india</td><td>0.0</td><td>10</td><td>8</td><td>1</td><td>0.0</td></tr><tr><td>ORD1028</td><td>null</td><td>Webcam</td><td>null</td><td>1</td><td>75.5</td><td>usa</td><td>0.0</td><td>0</td><td>46</td><td>1</td><td>75.5</td></tr><tr><td>ORD1029</td><td>CUST001</td><td>Monitor</td><td>null</td><td>1</td><td>75.5</td><td>germany</td><td>0.0</td><td>12</td><td>48</td><td>1</td><td>75.5</td></tr><tr><td>ORD1030</td><td>CUST005</td><td>Speaker</td><td>null</td><td>five</td><td>300</td><td>spain</td><td>15.0</td><td>18</td><td>30</td><td>null</td><td>null</td></tr><tr><td>ORD1031</td><td>CUST005</td><td>Speaker</td><td>null</td><td>4</td><td>0.0</td><td>india</td><td>10.0</td><td>18</td><td>36</td><td>4</td><td>0.0</td></tr><tr><td>ORD1032</td><td>CUST005</td><td>Laptop</td><td>null</td><td>1</td><td>75.5</td><td>null</td><td>10.0</td><td>12</td><td>40</td><td>1</td><td>75.5</td></tr><tr><td>ORD1033</td><td>CUST001</td><td>Webcam</td><td>null</td><td>five</td><td>50</td><td>india</td><td>10.0</td><td>10</td><td>4</td><td>null</td><td>null</td></tr><tr><td>ORD1034</td><td>CUST005</td><td>Laptop</td><td>null</td><td>3</td><td>300</td><td>usa</td><td>5.0</td><td>10</td><td>13</td><td>3</td><td>900.0</td></tr><tr><td>ORD1035</td><td>null</td><td>Monitor</td><td>null</td><td>five</td><td>120.99</td><td>india</td><td>5.0</td><td>5</td><td>25</td><td>null</td><td>null</td></tr><tr><td>ORD1036</td><td>CUST002</td><td>null</td><td>null</td><td>3</td><td>0.0</td><td>india</td><td>10.0</td><td>5</td><td>11</td><td>3</td><td>0.0</td></tr><tr><td>ORD1037</td><td>CUST001</td><td>Hard Drive</td><td>null</td><td>five</td><td>120.99</td><td>null</td><td>5.0</td><td>5</td><td>5</td><td>null</td><td>null</td></tr><tr><td>ORD1038</td><td>CUST004</td><td>Mouse</td><td>null</td><td>1</td><td>50</td><td>germany</td><td>15.0</td><td>12</td><td>46</td><td>1</td><td>50.0</td></tr><tr><td>ORD1039</td><td>CUST001</td><td>Monitor</td><td>null</td><td>0</td><td>300</td><td>spain</td><td>15.0</td><td>18</td><td>26</td><td>0</td><td>0.0</td></tr><tr><td>ORD1040</td><td>CUST001</td><td>Mouse</td><td>null</td><td>five</td><td>0</td><td>spain</td><td>0.0</td><td>12</td><td>34</td><td>null</td><td>null</td></tr><tr><td>ORD1041</td><td>CUST001</td><td>Laptop</td><td>null</td><td>2</td><td>300</td><td>canada</td><td>10.0</td><td>0</td><td>18</td><td>2</td><td>600.0</td></tr><tr><td>ORD1042</td><td>null</td><td>Mouse</td><td>null</td><td>0</td><td>300</td><td>spain</td><td>15.0</td><td>5</td><td>15</td><td>0</td><td>0.0</td></tr><tr><td>ORD1043</td><td>CUST005</td><td>Speaker</td><td>null</td><td>4</td><td>0</td><td>australia</td><td>0.0</td><td>0</td><td>46</td><td>4</td><td>0.0</td></tr><tr><td>ORD1044</td><td>CUST002</td><td>Charger</td><td>null</td><td>3</td><td>120.99</td><td>usa</td><td>0.0</td><td>5</td><td>39</td><td>3</td><td>362.96999999999997</td></tr><tr><td>ORD1045</td><td>CUST005</td><td>null</td><td>null</td><td>five</td><td>0.0</td><td>null</td><td>15.0</td><td>5</td><td>38</td><td>null</td><td>null</td></tr><tr><td>ORD1046</td><td>CUST005</td><td>Mouse</td><td>null</td><td>1</td><td>75.5</td><td>germany</td><td>0.0</td><td>12</td><td>41</td><td>1</td><td>75.5</td></tr><tr><td>ORD1047</td><td>CUST001</td><td>USB Drive</td><td>null</td><td>five</td><td>120.99</td><td>uk</td><td>0.0</td><td>12</td><td>0</td><td>null</td><td>null</td></tr><tr><td>ORD1048</td><td>CUST003</td><td>Charger</td><td>null</td><td>4</td><td>50</td><td>uk</td><td>15.0</td><td>0</td><td>16</td><td>4</td><td>200.0</td></tr><tr><td>ORD1049</td><td>null</td><td>Keyboard</td><td>null</td><td>2</td><td>50</td><td>usa</td><td>15.0</td><td>12</td><td>26</td><td>2</td><td>100.0</td></tr><tr><td>ORD1050</td><td>CUST003</td><td>Speaker</td><td>null</td><td>4</td><td>75.5</td><td>canada</td><td>5.0</td><td>12</td><td>29</td><td>4</td><td>302.0</td></tr><tr><td>ORD1051</td><td>CUST004</td><td>Laptop</td><td>null</td><td>0</td><td>0</td><td>null</td><td>0.0</td><td>18</td><td>23</td><td>0</td><td>0.0</td></tr><tr><td>ORD1052</td><td>CUST003</td><td>Charger</td><td>null</td><td>3</td><td>300</td><td>india</td><td>15.0</td><td>0</td><td>0</td><td>3</td><td>900.0</td></tr><tr><td>ORD1053</td><td>CUST004</td><td>USB Drive</td><td>null</td><td>1</td><td>0</td><td>germany</td><td>0.0</td><td>10</td><td>9</td><td>1</td><td>0.0</td></tr><tr><td>ORD1054</td><td>CUST005</td><td>null</td><td>null</td><td>3</td><td>50</td><td>canada</td><td>5.0</td><td>5</td><td>13</td><td>3</td><td>150.0</td></tr><tr><td>ORD1055</td><td>CUST005</td><td>Mouse</td><td>null</td><td>4</td><td>120.99</td><td>null</td><td>15.0</td><td>5</td><td>19</td><td>4</td><td>483.96</td></tr><tr><td>ORD1056</td><td>null</td><td>Tablet</td><td>null</td><td>1</td><td>50</td><td>usa</td><td>0.0</td><td>18</td><td>21</td><td>1</td><td>50.0</td></tr><tr><td>ORD1057</td><td>CUST005</td><td>Keyboard</td><td>null</td><td>2</td><td>120.99</td><td>australia</td><td>5.0</td><td>10</td><td>47</td><td>2</td><td>241.98</td></tr><tr><td>ORD1058</td><td>CUST005</td><td>Webcam</td><td>null</td><td>0</td><td>75.5</td><td>uk</td><td>10.0</td><td>0</td><td>50</td><td>0</td><td>0.0</td></tr><tr><td>ORD1059</td><td>CUST004</td><td>USB Drive</td><td>null</td><td>0</td><td>0</td><td>canada</td><td>0.0</td><td>18</td><td>30</td><td>0</td><td>0.0</td></tr><tr><td>ORD1060</td><td>CUST005</td><td>Keyboard</td><td>null</td><td>1</td><td>300</td><td>india</td><td>5.0</td><td>12</td><td>3</td><td>1</td><td>300.0</td></tr></tbody></table></div>"
      ]
     },
     "metadata": {
      "application/vnd.databricks.v1+output": {
       "addedWidgets": {},
       "aggData": [],
       "aggError": "",
       "aggOverflow": false,
       "aggSchema": [],
       "aggSeriesLimitReached": false,
       "aggType": "",
       "arguments": {},
       "columnCustomDisplayInfos": {},
       "data": [
        [
         "ORD1001",
         "CUST005",
         "Hard Drive",
         null,
         "2",
         "300",
         "australia",
         5,
         "12",
         "41",
         2,
         600
        ],
        [
         "ORD1002",
         "CUST003",
         "Hard Drive",
         null,
         "4",
         "0.0",
         "germany",
         15,
         "0",
         "29",
         4,
         0
        ],
        [
         "ORD1003",
         "CUST005",
         "Tablet",
         null,
         "4",
         "300",
         "uk",
         10,
         "12",
         "1",
         4,
         1200
        ],
        [
         "ORD1004",
         "CUST001",
         "Speaker",
         null,
         "1",
         "0",
         "uk",
         0,
         "5",
         "38",
         1,
         0
        ],
        [
         "ORD1005",
         "CUST002",
         "Webcam",
         null,
         "0",
         "75.5",
         "uk",
         10,
         "5",
         "20",
         0,
         0
        ],
        [
         "ORD1006",
         "CUST004",
         "Hard Drive",
         null,
         "4",
         "50",
         "usa",
         0,
         "5",
         "48",
         4,
         200
        ],
        [
         "ORD1007",
         null,
         "Webcam",
         null,
         "2",
         "75.5",
         "spain",
         0,
         "10",
         "15",
         2,
         151
        ],
        [
         "ORD1008",
         "CUST004",
         "Speaker",
         null,
         "1",
         "300",
         "spain",
         10,
         "0",
         "40",
         1,
         300
        ],
        [
         "ORD1009",
         "CUST005",
         null,
         null,
         "0",
         "75.5",
         "australia",
         5,
         "18",
         "26",
         0,
         0
        ],
        [
         "ORD1010",
         "CUST001",
         "Tablet",
         null,
         "0",
         "75.5",
         "india",
         15,
         "18",
         "23",
         0,
         0
        ],
        [
         "ORD1011",
         "CUST001",
         "Charger",
         null,
         "five",
         "50",
         "spain",
         0,
         "18",
         "39",
         null,
         null
        ],
        [
         "ORD1012",
         "CUST005",
         "Webcam",
         null,
         "1",
         "50",
         "canada",
         0,
         "10",
         "15",
         1,
         50
        ],
        [
         "ORD1013",
         "CUST002",
         "USB Drive",
         null,
         "five",
         "0",
         "spain",
         0,
         "5",
         "12",
         null,
         null
        ],
        [
         "ORD1014",
         null,
         "USB Drive",
         null,
         "4",
         "0",
         "australia",
         5,
         "5",
         "32",
         4,
         0
        ],
        [
         "ORD1015",
         "CUST002",
         "Webcam",
         null,
         "0",
         "0",
         "canada",
         10,
         "18",
         "6",
         0,
         0
        ],
        [
         "ORD1016",
         "CUST002",
         "Hard Drive",
         null,
         "0",
         "0",
         "india",
         10,
         "0",
         "20",
         0,
         0
        ],
        [
         "ORD1017",
         "CUST002",
         "Speaker",
         null,
         "4",
         "50",
         "spain",
         0,
         "12",
         "39",
         4,
         200
        ],
        [
         "ORD1018",
         "CUST005",
         null,
         null,
         "3",
         "0",
         "uk",
         15,
         "0",
         "43",
         3,
         0
        ],
        [
         "ORD1019",
         "CUST001",
         "Tablet",
         null,
         "1",
         "120.99",
         "australia",
         0,
         "0",
         "37",
         1,
         120.99
        ],
        [
         "ORD1020",
         "CUST002",
         "USB Drive",
         null,
         "1",
         "120.99",
         "usa",
         0,
         "0",
         "28",
         1,
         120.99
        ],
        [
         "ORD1021",
         null,
         "Speaker",
         null,
         "five",
         "75.5",
         "australia",
         15,
         "5",
         "11",
         null,
         null
        ],
        [
         "ORD1022",
         "CUST001",
         "USB Drive",
         null,
         "2",
         "75.5",
         "germany",
         5,
         "10",
         "13",
         2,
         151
        ],
        [
         "ORD1023",
         "CUST002",
         "Monitor",
         null,
         "3",
         "50",
         "australia",
         5,
         "18",
         "15",
         3,
         150
        ],
        [
         "ORD1024",
         "CUST003",
         "USB Drive",
         null,
         "4",
         "50",
         "spain",
         15,
         "0",
         "31",
         4,
         200
        ],
        [
         "ORD1025",
         "CUST003",
         "Hard Drive",
         null,
         "five",
         "0",
         "usa",
         0,
         "18",
         "38",
         null,
         null
        ],
        [
         "ORD1026",
         "CUST005",
         "Laptop",
         null,
         "five",
         "75.5",
         "usa",
         5,
         "0",
         "46",
         null,
         null
        ],
        [
         "ORD1027",
         "CUST003",
         null,
         null,
         "1",
         "0.0",
         "india",
         0,
         "10",
         "8",
         1,
         0
        ],
        [
         "ORD1028",
         null,
         "Webcam",
         null,
         "1",
         "75.5",
         "usa",
         0,
         "0",
         "46",
         1,
         75.5
        ],
        [
         "ORD1029",
         "CUST001",
         "Monitor",
         null,
         "1",
         "75.5",
         "germany",
         0,
         "12",
         "48",
         1,
         75.5
        ],
        [
         "ORD1030",
         "CUST005",
         "Speaker",
         null,
         "five",
         "300",
         "spain",
         15,
         "18",
         "30",
         null,
         null
        ],
        [
         "ORD1031",
         "CUST005",
         "Speaker",
         null,
         "4",
         "0.0",
         "india",
         10,
         "18",
         "36",
         4,
         0
        ],
        [
         "ORD1032",
         "CUST005",
         "Laptop",
         null,
         "1",
         "75.5",
         null,
         10,
         "12",
         "40",
         1,
         75.5
        ],
        [
         "ORD1033",
         "CUST001",
         "Webcam",
         null,
         "five",
         "50",
         "india",
         10,
         "10",
         "4",
         null,
         null
        ],
        [
         "ORD1034",
         "CUST005",
         "Laptop",
         null,
         "3",
         "300",
         "usa",
         5,
         "10",
         "13",
         3,
         900
        ],
        [
         "ORD1035",
         null,
         "Monitor",
         null,
         "five",
         "120.99",
         "india",
         5,
         "5",
         "25",
         null,
         null
        ],
        [
         "ORD1036",
         "CUST002",
         null,
         null,
         "3",
         "0.0",
         "india",
         10,
         "5",
         "11",
         3,
         0
        ],
        [
         "ORD1037",
         "CUST001",
         "Hard Drive",
         null,
         "five",
         "120.99",
         null,
         5,
         "5",
         "5",
         null,
         null
        ],
        [
         "ORD1038",
         "CUST004",
         "Mouse",
         null,
         "1",
         "50",
         "germany",
         15,
         "12",
         "46",
         1,
         50
        ],
        [
         "ORD1039",
         "CUST001",
         "Monitor",
         null,
         "0",
         "300",
         "spain",
         15,
         "18",
         "26",
         0,
         0
        ],
        [
         "ORD1040",
         "CUST001",
         "Mouse",
         null,
         "five",
         "0",
         "spain",
         0,
         "12",
         "34",
         null,
         null
        ],
        [
         "ORD1041",
         "CUST001",
         "Laptop",
         null,
         "2",
         "300",
         "canada",
         10,
         "0",
         "18",
         2,
         600
        ],
        [
         "ORD1042",
         null,
         "Mouse",
         null,
         "0",
         "300",
         "spain",
         15,
         "5",
         "15",
         0,
         0
        ],
        [
         "ORD1043",
         "CUST005",
         "Speaker",
         null,
         "4",
         "0",
         "australia",
         0,
         "0",
         "46",
         4,
         0
        ],
        [
         "ORD1044",
         "CUST002",
         "Charger",
         null,
         "3",
         "120.99",
         "usa",
         0,
         "5",
         "39",
         3,
         362.96999999999997
        ],
        [
         "ORD1045",
         "CUST005",
         null,
         null,
         "five",
         "0.0",
         null,
         15,
         "5",
         "38",
         null,
         null
        ],
        [
         "ORD1046",
         "CUST005",
         "Mouse",
         null,
         "1",
         "75.5",
         "germany",
         0,
         "12",
         "41",
         1,
         75.5
        ],
        [
         "ORD1047",
         "CUST001",
         "USB Drive",
         null,
         "five",
         "120.99",
         "uk",
         0,
         "12",
         "0",
         null,
         null
        ],
        [
         "ORD1048",
         "CUST003",
         "Charger",
         null,
         "4",
         "50",
         "uk",
         15,
         "0",
         "16",
         4,
         200
        ],
        [
         "ORD1049",
         null,
         "Keyboard",
         null,
         "2",
         "50",
         "usa",
         15,
         "12",
         "26",
         2,
         100
        ],
        [
         "ORD1050",
         "CUST003",
         "Speaker",
         null,
         "4",
         "75.5",
         "canada",
         5,
         "12",
         "29",
         4,
         302
        ],
        [
         "ORD1051",
         "CUST004",
         "Laptop",
         null,
         "0",
         "0",
         null,
         0,
         "18",
         "23",
         0,
         0
        ],
        [
         "ORD1052",
         "CUST003",
         "Charger",
         null,
         "3",
         "300",
         "india",
         15,
         "0",
         "0",
         3,
         900
        ],
        [
         "ORD1053",
         "CUST004",
         "USB Drive",
         null,
         "1",
         "0",
         "germany",
         0,
         "10",
         "9",
         1,
         0
        ],
        [
         "ORD1054",
         "CUST005",
         null,
         null,
         "3",
         "50",
         "canada",
         5,
         "5",
         "13",
         3,
         150
        ],
        [
         "ORD1055",
         "CUST005",
         "Mouse",
         null,
         "4",
         "120.99",
         null,
         15,
         "5",
         "19",
         4,
         483.96
        ],
        [
         "ORD1056",
         null,
         "Tablet",
         null,
         "1",
         "50",
         "usa",
         0,
         "18",
         "21",
         1,
         50
        ],
        [
         "ORD1057",
         "CUST005",
         "Keyboard",
         null,
         "2",
         "120.99",
         "australia",
         5,
         "10",
         "47",
         2,
         241.98
        ],
        [
         "ORD1058",
         "CUST005",
         "Webcam",
         null,
         "0",
         "75.5",
         "uk",
         10,
         "0",
         "50",
         0,
         0
        ],
        [
         "ORD1059",
         "CUST004",
         "USB Drive",
         null,
         "0",
         "0",
         "canada",
         0,
         "18",
         "30",
         0,
         0
        ],
        [
         "ORD1060",
         "CUST005",
         "Keyboard",
         null,
         "1",
         "300",
         "india",
         5,
         "12",
         "3",
         1,
         300
        ]
       ],
       "datasetInfos": [],
       "dbfsResultPath": null,
       "isJsonSchema": true,
       "metadata": {},
       "overflow": false,
       "plotOptions": {
        "customPlotOptions": {},
        "displayType": "table",
        "pivotAggregation": null,
        "pivotColumns": null,
        "xColumns": null,
        "yColumns": null
       },
       "removedWidgets": [],
       "schema": [
        {
         "metadata": "{}",
         "name": "OrderID",
         "type": "\"string\""
        },
        {
         "metadata": "{}",
         "name": "CustomerID",
         "type": "\"string\""
        },
        {
         "metadata": "{}",
         "name": "ProductName",
         "type": "\"string\""
        },
        {
         "metadata": "{}",
         "name": "OrderDate",
         "type": "\"date\""
        },
        {
         "metadata": "{}",
         "name": "Quantity",
         "type": "\"string\""
        },
        {
         "metadata": "{}",
         "name": "PricePerUnit",
         "type": "\"string\""
        },
        {
         "metadata": "{}",
         "name": "Country",
         "type": "\"string\""
        },
        {
         "metadata": "{}",
         "name": "DiscountPercent",
         "type": "\"double\""
        },
        {
         "metadata": "{}",
         "name": "TaxPercent",
         "type": "\"string\""
        },
        {
         "metadata": "{}",
         "name": "StockAvailable",
         "type": "\"string\""
        },
        {
         "metadata": "{}",
         "name": "Quanrity",
         "type": "\"integer\""
        },
        {
         "metadata": "{}",
         "name": "TotalAmount",
         "type": "\"double\""
        }
       ],
       "type": "table"
      }
     },
     "output_type": "display_data"
    }
   ],
   "source": [
    "df4 = df2.withColumn(\"Quanrity\",col(\"Quantity\").cast(\"int\"))\\\n",
    "         .withColumn(\"DiscountPercent\", col(\"DiscountPercent\").cast(\"double\"))\\\n",
    "         .withColumn(\"OrderDate\", to_date(col(\"OrderDate\"), \"yyyy-MM-dd\"))\\\n",
    "         .withColumn(\"TotalAmount\", expr(\"Quantity* PricePerUnit\"))\\\n",
    "         .withColumn(\"Country\", lower(\"Country\"))\n",
    "display(df4)"
   ]
  },
  {
   "cell_type": "code",
   "execution_count": 0,
   "metadata": {
    "application/vnd.databricks.v1+cell": {
     "cellMetadata": {
      "byteLimit": 2048000,
      "rowLimit": 10000
     },
     "inputWidgets": {},
     "nuid": "de739cce-4485-41a4-8e44-ca395352503c",
     "showTitle": false,
     "tableResultSettingsMap": {},
     "title": ""
    }
   },
   "outputs": [
    {
     "data": {
      "text/html": [
       "<style scoped>\n",
       "  .table-result-container {\n",
       "    max-height: 300px;\n",
       "    overflow: auto;\n",
       "  }\n",
       "  table, th, td {\n",
       "    border: 1px solid black;\n",
       "    border-collapse: collapse;\n",
       "  }\n",
       "  th, td {\n",
       "    padding: 5px;\n",
       "  }\n",
       "  th {\n",
       "    text-align: left;\n",
       "  }\n",
       "</style><div class='table-result-container'><table class='table-result'><thead style='background-color: white'><tr><th>OrderID</th><th>CustomerID</th><th>ProductName</th><th>OrderDate</th><th>Quantity</th><th>PricePerUnit</th><th>Country</th><th>DiscountPercent</th><th>TaxPercent</th><th>StockAvailable</th><th>Quanrity</th><th>TotalAmount</th></tr></thead><tbody><tr><td>ORD1001</td><td>CUST005</td><td>Hard Drive</td><td>null</td><td>2</td><td>300</td><td>australia</td><td>5.0</td><td>12</td><td>41</td><td>2</td><td>600.0</td></tr><tr><td>ORD1002</td><td>CUST003</td><td>Hard Drive</td><td>null</td><td>4</td><td>0.0</td><td>germany</td><td>15.0</td><td>0</td><td>29</td><td>4</td><td>0.0</td></tr><tr><td>ORD1003</td><td>CUST005</td><td>Tablet</td><td>null</td><td>4</td><td>300</td><td>uk</td><td>10.0</td><td>12</td><td>1</td><td>4</td><td>1200.0</td></tr><tr><td>ORD1004</td><td>CUST001</td><td>Speaker</td><td>null</td><td>1</td><td>0</td><td>uk</td><td>0.0</td><td>5</td><td>38</td><td>1</td><td>0.0</td></tr><tr><td>ORD1006</td><td>CUST004</td><td>Hard Drive</td><td>null</td><td>4</td><td>50</td><td>usa</td><td>0.0</td><td>5</td><td>48</td><td>4</td><td>200.0</td></tr><tr><td>ORD1007</td><td>null</td><td>Webcam</td><td>null</td><td>2</td><td>75.5</td><td>spain</td><td>0.0</td><td>10</td><td>15</td><td>2</td><td>151.0</td></tr><tr><td>ORD1008</td><td>CUST004</td><td>Speaker</td><td>null</td><td>1</td><td>300</td><td>spain</td><td>10.0</td><td>0</td><td>40</td><td>1</td><td>300.0</td></tr><tr><td>ORD1012</td><td>CUST005</td><td>Webcam</td><td>null</td><td>1</td><td>50</td><td>canada</td><td>0.0</td><td>10</td><td>15</td><td>1</td><td>50.0</td></tr><tr><td>ORD1014</td><td>null</td><td>USB Drive</td><td>null</td><td>4</td><td>0</td><td>australia</td><td>5.0</td><td>5</td><td>32</td><td>4</td><td>0.0</td></tr><tr><td>ORD1017</td><td>CUST002</td><td>Speaker</td><td>null</td><td>4</td><td>50</td><td>spain</td><td>0.0</td><td>12</td><td>39</td><td>4</td><td>200.0</td></tr><tr><td>ORD1018</td><td>CUST005</td><td>null</td><td>null</td><td>3</td><td>0</td><td>uk</td><td>15.0</td><td>0</td><td>43</td><td>3</td><td>0.0</td></tr><tr><td>ORD1019</td><td>CUST001</td><td>Tablet</td><td>null</td><td>1</td><td>120.99</td><td>australia</td><td>0.0</td><td>0</td><td>37</td><td>1</td><td>120.99</td></tr><tr><td>ORD1020</td><td>CUST002</td><td>USB Drive</td><td>null</td><td>1</td><td>120.99</td><td>usa</td><td>0.0</td><td>0</td><td>28</td><td>1</td><td>120.99</td></tr><tr><td>ORD1022</td><td>CUST001</td><td>USB Drive</td><td>null</td><td>2</td><td>75.5</td><td>germany</td><td>5.0</td><td>10</td><td>13</td><td>2</td><td>151.0</td></tr><tr><td>ORD1023</td><td>CUST002</td><td>Monitor</td><td>null</td><td>3</td><td>50</td><td>australia</td><td>5.0</td><td>18</td><td>15</td><td>3</td><td>150.0</td></tr><tr><td>ORD1024</td><td>CUST003</td><td>USB Drive</td><td>null</td><td>4</td><td>50</td><td>spain</td><td>15.0</td><td>0</td><td>31</td><td>4</td><td>200.0</td></tr><tr><td>ORD1027</td><td>CUST003</td><td>null</td><td>null</td><td>1</td><td>0.0</td><td>india</td><td>0.0</td><td>10</td><td>8</td><td>1</td><td>0.0</td></tr><tr><td>ORD1028</td><td>null</td><td>Webcam</td><td>null</td><td>1</td><td>75.5</td><td>usa</td><td>0.0</td><td>0</td><td>46</td><td>1</td><td>75.5</td></tr><tr><td>ORD1029</td><td>CUST001</td><td>Monitor</td><td>null</td><td>1</td><td>75.5</td><td>germany</td><td>0.0</td><td>12</td><td>48</td><td>1</td><td>75.5</td></tr><tr><td>ORD1031</td><td>CUST005</td><td>Speaker</td><td>null</td><td>4</td><td>0.0</td><td>india</td><td>10.0</td><td>18</td><td>36</td><td>4</td><td>0.0</td></tr><tr><td>ORD1032</td><td>CUST005</td><td>Laptop</td><td>null</td><td>1</td><td>75.5</td><td>null</td><td>10.0</td><td>12</td><td>40</td><td>1</td><td>75.5</td></tr><tr><td>ORD1034</td><td>CUST005</td><td>Laptop</td><td>null</td><td>3</td><td>300</td><td>usa</td><td>5.0</td><td>10</td><td>13</td><td>3</td><td>900.0</td></tr><tr><td>ORD1036</td><td>CUST002</td><td>null</td><td>null</td><td>3</td><td>0.0</td><td>india</td><td>10.0</td><td>5</td><td>11</td><td>3</td><td>0.0</td></tr><tr><td>ORD1038</td><td>CUST004</td><td>Mouse</td><td>null</td><td>1</td><td>50</td><td>germany</td><td>15.0</td><td>12</td><td>46</td><td>1</td><td>50.0</td></tr><tr><td>ORD1041</td><td>CUST001</td><td>Laptop</td><td>null</td><td>2</td><td>300</td><td>canada</td><td>10.0</td><td>0</td><td>18</td><td>2</td><td>600.0</td></tr><tr><td>ORD1043</td><td>CUST005</td><td>Speaker</td><td>null</td><td>4</td><td>0</td><td>australia</td><td>0.0</td><td>0</td><td>46</td><td>4</td><td>0.0</td></tr><tr><td>ORD1044</td><td>CUST002</td><td>Charger</td><td>null</td><td>3</td><td>120.99</td><td>usa</td><td>0.0</td><td>5</td><td>39</td><td>3</td><td>362.96999999999997</td></tr><tr><td>ORD1046</td><td>CUST005</td><td>Mouse</td><td>null</td><td>1</td><td>75.5</td><td>germany</td><td>0.0</td><td>12</td><td>41</td><td>1</td><td>75.5</td></tr><tr><td>ORD1048</td><td>CUST003</td><td>Charger</td><td>null</td><td>4</td><td>50</td><td>uk</td><td>15.0</td><td>0</td><td>16</td><td>4</td><td>200.0</td></tr><tr><td>ORD1049</td><td>null</td><td>Keyboard</td><td>null</td><td>2</td><td>50</td><td>usa</td><td>15.0</td><td>12</td><td>26</td><td>2</td><td>100.0</td></tr><tr><td>ORD1050</td><td>CUST003</td><td>Speaker</td><td>null</td><td>4</td><td>75.5</td><td>canada</td><td>5.0</td><td>12</td><td>29</td><td>4</td><td>302.0</td></tr><tr><td>ORD1052</td><td>CUST003</td><td>Charger</td><td>null</td><td>3</td><td>300</td><td>india</td><td>15.0</td><td>0</td><td>0</td><td>3</td><td>900.0</td></tr><tr><td>ORD1053</td><td>CUST004</td><td>USB Drive</td><td>null</td><td>1</td><td>0</td><td>germany</td><td>0.0</td><td>10</td><td>9</td><td>1</td><td>0.0</td></tr><tr><td>ORD1054</td><td>CUST005</td><td>null</td><td>null</td><td>3</td><td>50</td><td>canada</td><td>5.0</td><td>5</td><td>13</td><td>3</td><td>150.0</td></tr><tr><td>ORD1055</td><td>CUST005</td><td>Mouse</td><td>null</td><td>4</td><td>120.99</td><td>null</td><td>15.0</td><td>5</td><td>19</td><td>4</td><td>483.96</td></tr><tr><td>ORD1056</td><td>null</td><td>Tablet</td><td>null</td><td>1</td><td>50</td><td>usa</td><td>0.0</td><td>18</td><td>21</td><td>1</td><td>50.0</td></tr><tr><td>ORD1057</td><td>CUST005</td><td>Keyboard</td><td>null</td><td>2</td><td>120.99</td><td>australia</td><td>5.0</td><td>10</td><td>47</td><td>2</td><td>241.98</td></tr><tr><td>ORD1060</td><td>CUST005</td><td>Keyboard</td><td>null</td><td>1</td><td>300</td><td>india</td><td>5.0</td><td>12</td><td>3</td><td>1</td><td>300.0</td></tr></tbody></table></div>"
      ]
     },
     "metadata": {
      "application/vnd.databricks.v1+output": {
       "addedWidgets": {},
       "aggData": [],
       "aggError": "",
       "aggOverflow": false,
       "aggSchema": [],
       "aggSeriesLimitReached": false,
       "aggType": "",
       "arguments": {},
       "columnCustomDisplayInfos": {},
       "data": [
        [
         "ORD1001",
         "CUST005",
         "Hard Drive",
         null,
         "2",
         "300",
         "australia",
         5,
         "12",
         "41",
         2,
         600
        ],
        [
         "ORD1002",
         "CUST003",
         "Hard Drive",
         null,
         "4",
         "0.0",
         "germany",
         15,
         "0",
         "29",
         4,
         0
        ],
        [
         "ORD1003",
         "CUST005",
         "Tablet",
         null,
         "4",
         "300",
         "uk",
         10,
         "12",
         "1",
         4,
         1200
        ],
        [
         "ORD1004",
         "CUST001",
         "Speaker",
         null,
         "1",
         "0",
         "uk",
         0,
         "5",
         "38",
         1,
         0
        ],
        [
         "ORD1006",
         "CUST004",
         "Hard Drive",
         null,
         "4",
         "50",
         "usa",
         0,
         "5",
         "48",
         4,
         200
        ],
        [
         "ORD1007",
         null,
         "Webcam",
         null,
         "2",
         "75.5",
         "spain",
         0,
         "10",
         "15",
         2,
         151
        ],
        [
         "ORD1008",
         "CUST004",
         "Speaker",
         null,
         "1",
         "300",
         "spain",
         10,
         "0",
         "40",
         1,
         300
        ],
        [
         "ORD1012",
         "CUST005",
         "Webcam",
         null,
         "1",
         "50",
         "canada",
         0,
         "10",
         "15",
         1,
         50
        ],
        [
         "ORD1014",
         null,
         "USB Drive",
         null,
         "4",
         "0",
         "australia",
         5,
         "5",
         "32",
         4,
         0
        ],
        [
         "ORD1017",
         "CUST002",
         "Speaker",
         null,
         "4",
         "50",
         "spain",
         0,
         "12",
         "39",
         4,
         200
        ],
        [
         "ORD1018",
         "CUST005",
         null,
         null,
         "3",
         "0",
         "uk",
         15,
         "0",
         "43",
         3,
         0
        ],
        [
         "ORD1019",
         "CUST001",
         "Tablet",
         null,
         "1",
         "120.99",
         "australia",
         0,
         "0",
         "37",
         1,
         120.99
        ],
        [
         "ORD1020",
         "CUST002",
         "USB Drive",
         null,
         "1",
         "120.99",
         "usa",
         0,
         "0",
         "28",
         1,
         120.99
        ],
        [
         "ORD1022",
         "CUST001",
         "USB Drive",
         null,
         "2",
         "75.5",
         "germany",
         5,
         "10",
         "13",
         2,
         151
        ],
        [
         "ORD1023",
         "CUST002",
         "Monitor",
         null,
         "3",
         "50",
         "australia",
         5,
         "18",
         "15",
         3,
         150
        ],
        [
         "ORD1024",
         "CUST003",
         "USB Drive",
         null,
         "4",
         "50",
         "spain",
         15,
         "0",
         "31",
         4,
         200
        ],
        [
         "ORD1027",
         "CUST003",
         null,
         null,
         "1",
         "0.0",
         "india",
         0,
         "10",
         "8",
         1,
         0
        ],
        [
         "ORD1028",
         null,
         "Webcam",
         null,
         "1",
         "75.5",
         "usa",
         0,
         "0",
         "46",
         1,
         75.5
        ],
        [
         "ORD1029",
         "CUST001",
         "Monitor",
         null,
         "1",
         "75.5",
         "germany",
         0,
         "12",
         "48",
         1,
         75.5
        ],
        [
         "ORD1031",
         "CUST005",
         "Speaker",
         null,
         "4",
         "0.0",
         "india",
         10,
         "18",
         "36",
         4,
         0
        ],
        [
         "ORD1032",
         "CUST005",
         "Laptop",
         null,
         "1",
         "75.5",
         null,
         10,
         "12",
         "40",
         1,
         75.5
        ],
        [
         "ORD1034",
         "CUST005",
         "Laptop",
         null,
         "3",
         "300",
         "usa",
         5,
         "10",
         "13",
         3,
         900
        ],
        [
         "ORD1036",
         "CUST002",
         null,
         null,
         "3",
         "0.0",
         "india",
         10,
         "5",
         "11",
         3,
         0
        ],
        [
         "ORD1038",
         "CUST004",
         "Mouse",
         null,
         "1",
         "50",
         "germany",
         15,
         "12",
         "46",
         1,
         50
        ],
        [
         "ORD1041",
         "CUST001",
         "Laptop",
         null,
         "2",
         "300",
         "canada",
         10,
         "0",
         "18",
         2,
         600
        ],
        [
         "ORD1043",
         "CUST005",
         "Speaker",
         null,
         "4",
         "0",
         "australia",
         0,
         "0",
         "46",
         4,
         0
        ],
        [
         "ORD1044",
         "CUST002",
         "Charger",
         null,
         "3",
         "120.99",
         "usa",
         0,
         "5",
         "39",
         3,
         362.96999999999997
        ],
        [
         "ORD1046",
         "CUST005",
         "Mouse",
         null,
         "1",
         "75.5",
         "germany",
         0,
         "12",
         "41",
         1,
         75.5
        ],
        [
         "ORD1048",
         "CUST003",
         "Charger",
         null,
         "4",
         "50",
         "uk",
         15,
         "0",
         "16",
         4,
         200
        ],
        [
         "ORD1049",
         null,
         "Keyboard",
         null,
         "2",
         "50",
         "usa",
         15,
         "12",
         "26",
         2,
         100
        ],
        [
         "ORD1050",
         "CUST003",
         "Speaker",
         null,
         "4",
         "75.5",
         "canada",
         5,
         "12",
         "29",
         4,
         302
        ],
        [
         "ORD1052",
         "CUST003",
         "Charger",
         null,
         "3",
         "300",
         "india",
         15,
         "0",
         "0",
         3,
         900
        ],
        [
         "ORD1053",
         "CUST004",
         "USB Drive",
         null,
         "1",
         "0",
         "germany",
         0,
         "10",
         "9",
         1,
         0
        ],
        [
         "ORD1054",
         "CUST005",
         null,
         null,
         "3",
         "50",
         "canada",
         5,
         "5",
         "13",
         3,
         150
        ],
        [
         "ORD1055",
         "CUST005",
         "Mouse",
         null,
         "4",
         "120.99",
         null,
         15,
         "5",
         "19",
         4,
         483.96
        ],
        [
         "ORD1056",
         null,
         "Tablet",
         null,
         "1",
         "50",
         "usa",
         0,
         "18",
         "21",
         1,
         50
        ],
        [
         "ORD1057",
         "CUST005",
         "Keyboard",
         null,
         "2",
         "120.99",
         "australia",
         5,
         "10",
         "47",
         2,
         241.98
        ],
        [
         "ORD1060",
         "CUST005",
         "Keyboard",
         null,
         "1",
         "300",
         "india",
         5,
         "12",
         "3",
         1,
         300
        ]
       ],
       "datasetInfos": [],
       "dbfsResultPath": null,
       "isJsonSchema": true,
       "metadata": {},
       "overflow": false,
       "plotOptions": {
        "customPlotOptions": {},
        "displayType": "table",
        "pivotAggregation": null,
        "pivotColumns": null,
        "xColumns": null,
        "yColumns": null
       },
       "removedWidgets": [],
       "schema": [
        {
         "metadata": "{}",
         "name": "OrderID",
         "type": "\"string\""
        },
        {
         "metadata": "{}",
         "name": "CustomerID",
         "type": "\"string\""
        },
        {
         "metadata": "{}",
         "name": "ProductName",
         "type": "\"string\""
        },
        {
         "metadata": "{}",
         "name": "OrderDate",
         "type": "\"date\""
        },
        {
         "metadata": "{}",
         "name": "Quantity",
         "type": "\"string\""
        },
        {
         "metadata": "{}",
         "name": "PricePerUnit",
         "type": "\"string\""
        },
        {
         "metadata": "{}",
         "name": "Country",
         "type": "\"string\""
        },
        {
         "metadata": "{}",
         "name": "DiscountPercent",
         "type": "\"double\""
        },
        {
         "metadata": "{}",
         "name": "TaxPercent",
         "type": "\"string\""
        },
        {
         "metadata": "{}",
         "name": "StockAvailable",
         "type": "\"string\""
        },
        {
         "metadata": "{}",
         "name": "Quanrity",
         "type": "\"integer\""
        },
        {
         "metadata": "{}",
         "name": "TotalAmount",
         "type": "\"double\""
        }
       ],
       "type": "table"
      }
     },
     "output_type": "display_data"
    }
   ],
   "source": [
    "df5 = df4.drop_duplicates([\"OrderID\",\"ProductName\"])\\\n",
    "        .filter(col(\"Quantity\") > 0)\n",
    "display(df5)"
   ]
  },
  {
   "cell_type": "code",
   "execution_count": 0,
   "metadata": {
    "application/vnd.databricks.v1+cell": {
     "cellMetadata": {
      "byteLimit": 2048000,
      "rowLimit": 10000
     },
     "inputWidgets": {},
     "nuid": "28f31d01-9217-4ada-af13-faef5e6a9569",
     "showTitle": false,
     "tableResultSettingsMap": {},
     "title": ""
    }
   },
   "outputs": [],
   "source": [
    "windowSpec = Window.partitionBy(\"CustomerID\").orderBy(col(\"TotalAmount\").desc())\n",
    "df5 = df4.withColumn(\"Rank\", rank().over(windowSpec))"
   ]
  },
  {
   "cell_type": "code",
   "execution_count": 0,
   "metadata": {
    "application/vnd.databricks.v1+cell": {
     "cellMetadata": {
      "byteLimit": 2048000,
      "rowLimit": 10000
     },
     "inputWidgets": {},
     "nuid": "c0dbcbda-803d-4f1e-8751-56412d09ee52",
     "showTitle": false,
     "tableResultSettingsMap": {},
     "title": ""
    }
   },
   "outputs": [],
   "source": [
    "df6=df5.write.mode(\"overwrite\").option(\"header\",\"true\").save(\"/mnt/newpipeline3/silver/order_detail.csv\")"
   ]
  },
  {
   "cell_type": "code",
   "execution_count": 0,
   "metadata": {
    "application/vnd.databricks.v1+cell": {
     "cellMetadata": {
      "byteLimit": 2048000,
      "rowLimit": 10000
     },
     "inputWidgets": {},
     "nuid": "10a34ddf-c377-4a51-ad7a-11bf4a5b65f1",
     "showTitle": false,
     "tableResultSettingsMap": {},
     "title": ""
    }
   },
   "outputs": [],
   "source": [
    "df6=df5.write.format(\"delta\")\\\n",
    "    .mode(\"overwrite\")\\\n",
    "    .option(\"header\",\"true\")\\\n",
    "    .save(\"/mnt/newpipeline3/silver/order_detail.csv\")"
   ]
  }
 ],
 "metadata": {
  "application/vnd.databricks.v1+notebook": {
   "computePreferences": null,
   "dashboards": [],
   "environmentMetadata": {
    "base_environment": "",
    "environment_version": "1"
   },
   "inputWidgetPreferences": null,
   "language": "python",
   "notebookMetadata": {
    "pythonIndentUnit": 4
   },
   "notebookName": "retaildata_transformation",
   "widgets": {}
  },
  "language_info": {
   "name": "python"
  }
 },
 "nbformat": 4,
 "nbformat_minor": 0
}
